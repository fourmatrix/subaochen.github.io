{
 "cells": [
  {
   "cell_type": "markdown",
   "metadata": {},
   "source": [
    "在设置tensor的shape时，可以通过None告诉tensorflow，在这个维度上可以接受任意长度的数据，意即，可以是1个，2个，...，N个。\n",
    "\n",
    "但是，应该只在一个维度上使用None，通常用在第一个维度上，一般的用来表示batch的大小，如果是None，即表示接受任意大小的batch_size。比如在RNN生成文本的例子中，我们通过训练得到了一个模型，那么在预测时需要重构模型，将输入的shape修改为(None,65)，就可以使用任意长度的输入字符串来开始预测流程了。"
   ]
  },
  {
   "cell_type": "markdown",
   "metadata": {},
   "source": [
    "# 初始化实验环境"
   ]
  },
  {
   "cell_type": "code",
   "execution_count": 1,
   "metadata": {},
   "outputs": [],
   "source": [
    "import tensorflow as tf"
   ]
  },
  {
   "cell_type": "code",
   "execution_count": 6,
   "metadata": {},
   "outputs": [],
   "source": [
    "def tf_reset():\n",
    "    try:\n",
    "        sess.close()\n",
    "    except:\n",
    "        pass\n",
    "    tf.reset_default_graph()\n",
    "    return tf.Session()"
   ]
  },
  {
   "cell_type": "markdown",
   "metadata": {},
   "source": [
    "# shape为0的情形\n",
    "shape为()意为标量。"
   ]
  },
  {
   "cell_type": "code",
   "execution_count": 11,
   "metadata": {},
   "outputs": [
    {
     "name": "stdout",
     "output_type": "stream",
     "text": [
      "3.0\n"
     ]
    }
   ],
   "source": [
    "sess = tf_reset()\n",
    "a = tf.placeholder(tf.float32, shape=(),name=\"a_placeholder\")\n",
    "b = tf.placeholder(tf.float32, shape=(),name=\"b_placeholder\")\n",
    "c = a + b\n",
    "print(sess.run(c, feed_dict={a:1.,b:2.}))"
   ]
  },
  {
   "cell_type": "markdown",
   "metadata": {},
   "source": [
    "# 一维张量的情形\n",
    "在数学上，一维向量通常是指列向量，但是在tensorflow中，一维向量（张量）是指行向量，这一点要注意一下。"
   ]
  },
  {
   "cell_type": "markdown",
   "metadata": {},
   "source": [
    "## 长度为1的一维向量"
   ]
  },
  {
   "cell_type": "code",
   "execution_count": 13,
   "metadata": {},
   "outputs": [
    {
     "name": "stdout",
     "output_type": "stream",
     "text": [
      "[3.]\n"
     ]
    }
   ],
   "source": [
    "sess = tf_reset()\n",
    "a = tf.placeholder(tf.float32, shape=(1),name=\"a_placeholder\")\n",
    "b = tf.placeholder(tf.float32, shape=(1),name=\"b_placeholder\")\n",
    "c = a + b\n",
    "print(sess.run(c, feed_dict={a:[1.],b:[2.]}))"
   ]
  },
  {
   "cell_type": "markdown",
   "metadata": {},
   "source": [
    "## 长度为2的一维向量"
   ]
  },
  {
   "cell_type": "code",
   "execution_count": 14,
   "metadata": {},
   "outputs": [
    {
     "name": "stdout",
     "output_type": "stream",
     "text": [
      "[4. 6.]\n"
     ]
    }
   ],
   "source": [
    "sess = tf_reset()\n",
    "a = tf.placeholder(tf.float32, shape=(2),name=\"a_placeholder\")\n",
    "b = tf.placeholder(tf.float32, shape=(2),name=\"b_placeholder\")\n",
    "c = a + b\n",
    "print(sess.run(c, feed_dict={a:[1.,2.],b:[3.,4.]}))"
   ]
  },
  {
   "cell_type": "markdown",
   "metadata": {},
   "source": [
    "## 使用None接收任意长度的一维向量"
   ]
  },
  {
   "cell_type": "code",
   "execution_count": 16,
   "metadata": {},
   "outputs": [
    {
     "name": "stdout",
     "output_type": "stream",
     "text": [
      "[5. 7. 9.]\n"
     ]
    }
   ],
   "source": [
    "sess = tf_reset()\n",
    "a = tf.placeholder(tf.float32, shape=(None),name=\"a_placeholder\")\n",
    "b = tf.placeholder(tf.float32, shape=(None),name=\"b_placeholder\")\n",
    "c = a + b\n",
    "print(sess.run(c, feed_dict={a:[1., 2., 3.],b:[4., 5., 6.]}))"
   ]
  },
  {
   "cell_type": "markdown",
   "metadata": {},
   "source": [
    "# 多维向量中的None"
   ]
  },
  {
   "cell_type": "code",
   "execution_count": 17,
   "metadata": {},
   "outputs": [
    {
     "name": "stdout",
     "output_type": "stream",
     "text": [
      "[[ 6.  8.]\n",
      " [10. 12.]]\n"
     ]
    }
   ],
   "source": [
    "sess = tf_reset()\n",
    "a = tf.placeholder(tf.float32, shape=(None,2),name=\"a_placeholder\")\n",
    "b = tf.placeholder(tf.float32, shape=(None,2),name=\"b_placeholder\")\n",
    "c = a + b\n",
    "print(sess.run(c, feed_dict={a:[[1., 2.],[3., 4.]],b:[[5., 6.],[7., 8.]]}))"
   ]
  }
 ],
 "metadata": {
  "kernelspec": {
   "display_name": "Python 3",
   "language": "python",
   "name": "python3"
  },
  "language_info": {
   "codemirror_mode": {
    "name": "ipython",
    "version": 3
   },
   "file_extension": ".py",
   "mimetype": "text/x-python",
   "name": "python",
   "nbconvert_exporter": "python",
   "pygments_lexer": "ipython3",
   "version": "3.7.3"
  }
 },
 "nbformat": 4,
 "nbformat_minor": 2
}
