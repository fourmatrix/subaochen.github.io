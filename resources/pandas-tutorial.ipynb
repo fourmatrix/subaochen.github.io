{
 "cells": [
  {
   "cell_type": "markdown",
   "metadata": {},
   "source": [
    "pandas是基于numpy的数据处理包，是python界的巨无霸，其手册超过2000页，参见下图，大家感受一下：\n",
    "\n",
    "![pandas manual](/images/python/pandas-manual.png)\n",
    "\n",
    "其中的getting started部分也有接近200页，即使“10 Minutes to pandas”也有近30页的篇幅！不过，pandas的这个巨无霸手册组织的比较条理，几乎能够解决你的一切问题，应该作为案头的必备工具之一。\n",
    "\n",
    "建议至少将getting started部分能够通读一遍，了解pandas的强大数据分析方法，重要的功能动手练习一下。下面的内容是本人的练习和其中的一些感悟，不作为系统的教程。pandas如此强大，因此本人也会不断的阅读、练习以加深对pandas的理解，这里也就会有不断的更新。\n"
   ]
  },
  {
   "cell_type": "markdown",
   "metadata": {},
   "source": [
    "# pandas的数据结构及其创建\n",
    "如果把numpy比作列表，那么pandas就是字典。pandas的两个主要数据结构是Series和DataFrame，Series由索引和数据两部分组成，DataFrame是由多个Series组成的，本质上是一张二维表格。"
   ]
  },
  {
   "cell_type": "markdown",
   "metadata": {},
   "source": [
    "## Series"
   ]
  },
  {
   "cell_type": "code",
   "execution_count": 2,
   "metadata": {},
   "outputs": [],
   "source": [
    "import numpy as np\n",
    "import pandas as pd"
   ]
  },
  {
   "cell_type": "code",
   "execution_count": 7,
   "metadata": {
    "scrolled": true
   },
   "outputs": [
    {
     "name": "stdout",
     "output_type": "stream",
     "text": [
      "0     1.0\n",
      "1     2.0\n",
      "2     3.0\n",
      "3     NaN\n",
      "4    55.0\n",
      "dtype: float64\n"
     ]
    }
   ],
   "source": [
    "data = [1,2,3,np.nan,55]\n",
    "serial = pd.Series(data)\n",
    "print(serial)"
   ]
  },
  {
   "cell_type": "markdown",
   "metadata": {},
   "source": [
    "可见，如果没有为Series指定索引，pandas会自动创建从0开始的整数索引。下面为Series指定索引："
   ]
  },
  {
   "cell_type": "code",
   "execution_count": 14,
   "metadata": {},
   "outputs": [
    {
     "name": "stdout",
     "output_type": "stream",
     "text": [
      "2019-05-01     1.0\n",
      "2019-05-02     2.0\n",
      "2019-05-03     3.0\n",
      "2019-05-04     NaN\n",
      "2019-05-05    55.0\n",
      "Freq: D, dtype: float64\n",
      "DatetimeIndex(['2019-05-01', '2019-05-02', '2019-05-03', '2019-05-04',\n",
      "               '2019-05-05'],\n",
      "              dtype='datetime64[ns]', freq='D')\n",
      "[ 1.  2.  3. nan 55.]\n"
     ]
    }
   ],
   "source": [
    "dates = pd.date_range('20190501', periods=5)\n",
    "s = pd.Series(data, dates) # 注意参数的顺序，或者这样调用:pd.Series(data=data, index=dates)\n",
    "print(s)\n",
    "print(s.index)\n",
    "print(s.values)"
   ]
  },
  {
   "cell_type": "markdown",
   "metadata": {},
   "source": [
    "Series的属性具体参见Pandas API reference中的Series部分。"
   ]
  },
  {
   "cell_type": "markdown",
   "metadata": {},
   "source": [
    "## DataFrame\n",
    "DataFrame中的index是指行的索引，column是列的索引。"
   ]
  },
  {
   "cell_type": "markdown",
   "metadata": {},
   "source": [
    "直接借用上面创建的dates作为DateFrame的索引，创建一个DataFrame："
   ]
  },
  {
   "cell_type": "code",
   "execution_count": 17,
   "metadata": {},
   "outputs": [
    {
     "data": {
      "text/html": [
       "<div>\n",
       "<style scoped>\n",
       "    .dataframe tbody tr th:only-of-type {\n",
       "        vertical-align: middle;\n",
       "    }\n",
       "\n",
       "    .dataframe tbody tr th {\n",
       "        vertical-align: top;\n",
       "    }\n",
       "\n",
       "    .dataframe thead th {\n",
       "        text-align: right;\n",
       "    }\n",
       "</style>\n",
       "<table border=\"1\" class=\"dataframe\">\n",
       "  <thead>\n",
       "    <tr style=\"text-align: right;\">\n",
       "      <th></th>\n",
       "      <th>A</th>\n",
       "      <th>B</th>\n",
       "      <th>C</th>\n",
       "      <th>D</th>\n",
       "    </tr>\n",
       "  </thead>\n",
       "  <tbody>\n",
       "    <tr>\n",
       "      <th>2019-05-01</th>\n",
       "      <td>0.458107</td>\n",
       "      <td>-0.192635</td>\n",
       "      <td>1.833757</td>\n",
       "      <td>1.018542</td>\n",
       "    </tr>\n",
       "    <tr>\n",
       "      <th>2019-05-02</th>\n",
       "      <td>-0.619739</td>\n",
       "      <td>0.902050</td>\n",
       "      <td>0.740512</td>\n",
       "      <td>0.734122</td>\n",
       "    </tr>\n",
       "    <tr>\n",
       "      <th>2019-05-03</th>\n",
       "      <td>0.281957</td>\n",
       "      <td>-2.269712</td>\n",
       "      <td>-1.119312</td>\n",
       "      <td>-1.225087</td>\n",
       "    </tr>\n",
       "    <tr>\n",
       "      <th>2019-05-04</th>\n",
       "      <td>-0.269801</td>\n",
       "      <td>0.527882</td>\n",
       "      <td>-0.823341</td>\n",
       "      <td>-0.748891</td>\n",
       "    </tr>\n",
       "    <tr>\n",
       "      <th>2019-05-05</th>\n",
       "      <td>0.293009</td>\n",
       "      <td>-0.111322</td>\n",
       "      <td>-1.520751</td>\n",
       "      <td>-0.728785</td>\n",
       "    </tr>\n",
       "  </tbody>\n",
       "</table>\n",
       "</div>"
      ],
      "text/plain": [
       "                   A         B         C         D\n",
       "2019-05-01  0.458107 -0.192635  1.833757  1.018542\n",
       "2019-05-02 -0.619739  0.902050  0.740512  0.734122\n",
       "2019-05-03  0.281957 -2.269712 -1.119312 -1.225087\n",
       "2019-05-04 -0.269801  0.527882 -0.823341 -0.748891\n",
       "2019-05-05  0.293009 -0.111322 -1.520751 -0.728785"
      ]
     },
     "execution_count": 17,
     "metadata": {},
     "output_type": "execute_result"
    }
   ],
   "source": [
    "df = pd.DataFrame(index=dates, data=np.random.randn(20).reshape((5,4)), columns=list('ABCD'))\n",
    "df"
   ]
  },
  {
   "cell_type": "markdown",
   "metadata": {},
   "source": [
    "查看DataFrame的索引："
   ]
  },
  {
   "cell_type": "code",
   "execution_count": 19,
   "metadata": {},
   "outputs": [
    {
     "data": {
      "text/plain": [
       "DatetimeIndex(['2019-05-01', '2019-05-02', '2019-05-03', '2019-05-04',\n",
       "               '2019-05-05'],\n",
       "              dtype='datetime64[ns]', freq='D')"
      ]
     },
     "execution_count": 19,
     "metadata": {},
     "output_type": "execute_result"
    }
   ],
   "source": [
    "df.index"
   ]
  },
  {
   "cell_type": "markdown",
   "metadata": {},
   "source": [
    "查看DataFrame的columns："
   ]
  },
  {
   "cell_type": "code",
   "execution_count": 21,
   "metadata": {},
   "outputs": [
    {
     "data": {
      "text/plain": [
       "Index(['A', 'B', 'C', 'D'], dtype='object')"
      ]
     },
     "execution_count": 21,
     "metadata": {},
     "output_type": "execute_result"
    }
   ],
   "source": [
    "df.columns"
   ]
  },
  {
   "cell_type": "markdown",
   "metadata": {},
   "source": [
    "查看DataFrames的数据："
   ]
  },
  {
   "cell_type": "code",
   "execution_count": 22,
   "metadata": {},
   "outputs": [
    {
     "data": {
      "text/plain": [
       "array([[ 0.45810656, -0.19263504,  1.83375697,  1.0185416 ],\n",
       "       [-0.61973932,  0.9020497 ,  0.740512  ,  0.73412183],\n",
       "       [ 0.28195677, -2.26971194, -1.11931152, -1.2250866 ],\n",
       "       [-0.26980061,  0.52788194, -0.82334148, -0.7488908 ],\n",
       "       [ 0.29300924, -0.11132153, -1.52075088, -0.72878478]])"
      ]
     },
     "execution_count": 22,
     "metadata": {},
     "output_type": "execute_result"
    }
   ],
   "source": [
    "df.values"
   ]
  },
  {
   "cell_type": "markdown",
   "metadata": {},
   "source": [
    "# DataFrame的数据选取\n",
    "从DataFrame中选取数据主要有三种方法，分别通过[],loc,iloc属性实现。因此，数据选取的操作都是通过[]，注意和函数调用的()区分开来：数据选取不是函数调用。"
   ]
  },
  {
   "cell_type": "markdown",
   "metadata": {},
   "source": [
    "## 通过[]选取数据\n",
    "[]是pandas选取数据的操作符，注意和列表[]区分开来。"
   ]
  },
  {
   "cell_type": "code",
   "execution_count": 28,
   "metadata": {
    "scrolled": true
   },
   "outputs": [
    {
     "data": {
      "text/plain": [
       "2019-05-01    0.458107\n",
       "2019-05-02   -0.619739\n",
       "2019-05-03    0.281957\n",
       "2019-05-04   -0.269801\n",
       "2019-05-05    0.293009\n",
       "Freq: D, Name: A, dtype: float64"
      ]
     },
     "execution_count": 28,
     "metadata": {},
     "output_type": "execute_result"
    }
   ],
   "source": [
    "df['A']"
   ]
  },
  {
   "cell_type": "code",
   "execution_count": 31,
   "metadata": {},
   "outputs": [
    {
     "data": {
      "text/html": [
       "<div>\n",
       "<style scoped>\n",
       "    .dataframe tbody tr th:only-of-type {\n",
       "        vertical-align: middle;\n",
       "    }\n",
       "\n",
       "    .dataframe tbody tr th {\n",
       "        vertical-align: top;\n",
       "    }\n",
       "\n",
       "    .dataframe thead th {\n",
       "        text-align: right;\n",
       "    }\n",
       "</style>\n",
       "<table border=\"1\" class=\"dataframe\">\n",
       "  <thead>\n",
       "    <tr style=\"text-align: right;\">\n",
       "      <th></th>\n",
       "      <th>A</th>\n",
       "      <th>D</th>\n",
       "    </tr>\n",
       "  </thead>\n",
       "  <tbody>\n",
       "    <tr>\n",
       "      <th>2019-05-01</th>\n",
       "      <td>0.458107</td>\n",
       "      <td>1.018542</td>\n",
       "    </tr>\n",
       "    <tr>\n",
       "      <th>2019-05-02</th>\n",
       "      <td>-0.619739</td>\n",
       "      <td>0.734122</td>\n",
       "    </tr>\n",
       "    <tr>\n",
       "      <th>2019-05-03</th>\n",
       "      <td>0.281957</td>\n",
       "      <td>-1.225087</td>\n",
       "    </tr>\n",
       "    <tr>\n",
       "      <th>2019-05-04</th>\n",
       "      <td>-0.269801</td>\n",
       "      <td>-0.748891</td>\n",
       "    </tr>\n",
       "    <tr>\n",
       "      <th>2019-05-05</th>\n",
       "      <td>0.293009</td>\n",
       "      <td>-0.728785</td>\n",
       "    </tr>\n",
       "  </tbody>\n",
       "</table>\n",
       "</div>"
      ],
      "text/plain": [
       "                   A         D\n",
       "2019-05-01  0.458107  1.018542\n",
       "2019-05-02 -0.619739  0.734122\n",
       "2019-05-03  0.281957 -1.225087\n",
       "2019-05-04 -0.269801 -0.748891\n",
       "2019-05-05  0.293009 -0.728785"
      ]
     },
     "execution_count": 31,
     "metadata": {},
     "output_type": "execute_result"
    }
   ],
   "source": [
    "df[['A','D']] # 注意只是写df['A','D']是不行的，因为外层的[]表示一个选取操作，里层的[]表示选取哪些列的一个列表"
   ]
  },
  {
   "cell_type": "code",
   "execution_count": 32,
   "metadata": {},
   "outputs": [
    {
     "data": {
      "text/html": [
       "<div>\n",
       "<style scoped>\n",
       "    .dataframe tbody tr th:only-of-type {\n",
       "        vertical-align: middle;\n",
       "    }\n",
       "\n",
       "    .dataframe tbody tr th {\n",
       "        vertical-align: top;\n",
       "    }\n",
       "\n",
       "    .dataframe thead th {\n",
       "        text-align: right;\n",
       "    }\n",
       "</style>\n",
       "<table border=\"1\" class=\"dataframe\">\n",
       "  <thead>\n",
       "    <tr style=\"text-align: right;\">\n",
       "      <th></th>\n",
       "      <th>A</th>\n",
       "      <th>B</th>\n",
       "      <th>C</th>\n",
       "      <th>D</th>\n",
       "    </tr>\n",
       "  </thead>\n",
       "  <tbody>\n",
       "    <tr>\n",
       "      <th>2019-05-01</th>\n",
       "      <td>0.458107</td>\n",
       "      <td>-0.192635</td>\n",
       "      <td>1.833757</td>\n",
       "      <td>1.018542</td>\n",
       "    </tr>\n",
       "    <tr>\n",
       "      <th>2019-05-02</th>\n",
       "      <td>-0.619739</td>\n",
       "      <td>0.902050</td>\n",
       "      <td>0.740512</td>\n",
       "      <td>0.734122</td>\n",
       "    </tr>\n",
       "    <tr>\n",
       "      <th>2019-05-03</th>\n",
       "      <td>0.281957</td>\n",
       "      <td>-2.269712</td>\n",
       "      <td>-1.119312</td>\n",
       "      <td>-1.225087</td>\n",
       "    </tr>\n",
       "  </tbody>\n",
       "</table>\n",
       "</div>"
      ],
      "text/plain": [
       "                   A         B         C         D\n",
       "2019-05-01  0.458107 -0.192635  1.833757  1.018542\n",
       "2019-05-02 -0.619739  0.902050  0.740512  0.734122\n",
       "2019-05-03  0.281957 -2.269712 -1.119312 -1.225087"
      ]
     },
     "execution_count": 32,
     "metadata": {},
     "output_type": "execute_result"
    }
   ],
   "source": [
    "df[0:3]"
   ]
  },
  {
   "cell_type": "code",
   "execution_count": 34,
   "metadata": {},
   "outputs": [
    {
     "data": {
      "text/html": [
       "<div>\n",
       "<style scoped>\n",
       "    .dataframe tbody tr th:only-of-type {\n",
       "        vertical-align: middle;\n",
       "    }\n",
       "\n",
       "    .dataframe tbody tr th {\n",
       "        vertical-align: top;\n",
       "    }\n",
       "\n",
       "    .dataframe thead th {\n",
       "        text-align: right;\n",
       "    }\n",
       "</style>\n",
       "<table border=\"1\" class=\"dataframe\">\n",
       "  <thead>\n",
       "    <tr style=\"text-align: right;\">\n",
       "      <th></th>\n",
       "      <th>A</th>\n",
       "      <th>B</th>\n",
       "      <th>C</th>\n",
       "      <th>D</th>\n",
       "    </tr>\n",
       "  </thead>\n",
       "  <tbody>\n",
       "    <tr>\n",
       "      <th>2019-05-02</th>\n",
       "      <td>-0.619739</td>\n",
       "      <td>0.902050</td>\n",
       "      <td>0.740512</td>\n",
       "      <td>0.734122</td>\n",
       "    </tr>\n",
       "    <tr>\n",
       "      <th>2019-05-03</th>\n",
       "      <td>0.281957</td>\n",
       "      <td>-2.269712</td>\n",
       "      <td>-1.119312</td>\n",
       "      <td>-1.225087</td>\n",
       "    </tr>\n",
       "    <tr>\n",
       "      <th>2019-05-04</th>\n",
       "      <td>-0.269801</td>\n",
       "      <td>0.527882</td>\n",
       "      <td>-0.823341</td>\n",
       "      <td>-0.748891</td>\n",
       "    </tr>\n",
       "  </tbody>\n",
       "</table>\n",
       "</div>"
      ],
      "text/plain": [
       "                   A         B         C         D\n",
       "2019-05-02 -0.619739  0.902050  0.740512  0.734122\n",
       "2019-05-03  0.281957 -2.269712 -1.119312 -1.225087\n",
       "2019-05-04 -0.269801  0.527882 -0.823341 -0.748891"
      ]
     },
     "execution_count": 34,
     "metadata": {},
     "output_type": "execute_result"
    }
   ],
   "source": [
    "df['20190502':'20190504']"
   ]
  },
  {
   "cell_type": "markdown",
   "metadata": {},
   "source": [
    "## 通过loc选取数据（给定label）\n",
    "loc要求给出具体的行或列的label或者其范围选取数据。"
   ]
  },
  {
   "cell_type": "code",
   "execution_count": 37,
   "metadata": {},
   "outputs": [
    {
     "data": {
      "text/plain": [
       "A    0.458107\n",
       "B   -0.192635\n",
       "C    1.833757\n",
       "D    1.018542\n",
       "Name: 2019-05-01 00:00:00, dtype: float64"
      ]
     },
     "execution_count": 37,
     "metadata": {},
     "output_type": "execute_result"
    }
   ],
   "source": [
    "df.loc[dates[0]]"
   ]
  },
  {
   "cell_type": "code",
   "execution_count": 38,
   "metadata": {},
   "outputs": [
    {
     "data": {
      "text/html": [
       "<div>\n",
       "<style scoped>\n",
       "    .dataframe tbody tr th:only-of-type {\n",
       "        vertical-align: middle;\n",
       "    }\n",
       "\n",
       "    .dataframe tbody tr th {\n",
       "        vertical-align: top;\n",
       "    }\n",
       "\n",
       "    .dataframe thead th {\n",
       "        text-align: right;\n",
       "    }\n",
       "</style>\n",
       "<table border=\"1\" class=\"dataframe\">\n",
       "  <thead>\n",
       "    <tr style=\"text-align: right;\">\n",
       "      <th></th>\n",
       "      <th>A</th>\n",
       "      <th>C</th>\n",
       "    </tr>\n",
       "  </thead>\n",
       "  <tbody>\n",
       "    <tr>\n",
       "      <th>2019-05-01</th>\n",
       "      <td>0.458107</td>\n",
       "      <td>1.833757</td>\n",
       "    </tr>\n",
       "    <tr>\n",
       "      <th>2019-05-02</th>\n",
       "      <td>-0.619739</td>\n",
       "      <td>0.740512</td>\n",
       "    </tr>\n",
       "    <tr>\n",
       "      <th>2019-05-03</th>\n",
       "      <td>0.281957</td>\n",
       "      <td>-1.119312</td>\n",
       "    </tr>\n",
       "    <tr>\n",
       "      <th>2019-05-04</th>\n",
       "      <td>-0.269801</td>\n",
       "      <td>-0.823341</td>\n",
       "    </tr>\n",
       "    <tr>\n",
       "      <th>2019-05-05</th>\n",
       "      <td>0.293009</td>\n",
       "      <td>-1.520751</td>\n",
       "    </tr>\n",
       "  </tbody>\n",
       "</table>\n",
       "</div>"
      ],
      "text/plain": [
       "                   A         C\n",
       "2019-05-01  0.458107  1.833757\n",
       "2019-05-02 -0.619739  0.740512\n",
       "2019-05-03  0.281957 -1.119312\n",
       "2019-05-04 -0.269801 -0.823341\n",
       "2019-05-05  0.293009 -1.520751"
      ]
     },
     "execution_count": 38,
     "metadata": {},
     "output_type": "execute_result"
    }
   ],
   "source": [
    "df.loc[:,['A','C']]"
   ]
  },
  {
   "cell_type": "code",
   "execution_count": 41,
   "metadata": {},
   "outputs": [
    {
     "data": {
      "text/plain": [
       "A    0.458107\n",
       "Name: 2019-05-01 00:00:00, dtype: float64"
      ]
     },
     "execution_count": 41,
     "metadata": {},
     "output_type": "execute_result"
    }
   ],
   "source": [
    "df.loc['20190501',['A']]"
   ]
  },
  {
   "cell_type": "code",
   "execution_count": 40,
   "metadata": {},
   "outputs": [
    {
     "data": {
      "text/plain": [
       "0.45810656189864746"
      ]
     },
     "execution_count": 40,
     "metadata": {},
     "output_type": "execute_result"
    }
   ],
   "source": [
    "df.at[dates[0],'A']"
   ]
  },
  {
   "cell_type": "markdown",
   "metadata": {},
   "source": [
    "## 通过iloc选取数据（给定position）"
   ]
  },
  {
   "cell_type": "code",
   "execution_count": 47,
   "metadata": {},
   "outputs": [
    {
     "name": "stdout",
     "output_type": "stream",
     "text": [
      "                   A         B         C         D\n",
      "2019-05-01  0.458107 -0.192635  1.833757  1.018542\n",
      "2019-05-02 -0.619739  0.902050  0.740512  0.734122\n",
      "2019-05-03  0.281957 -2.269712 -1.119312 -1.225087\n",
      "2019-05-04 -0.269801  0.527882 -0.823341 -0.748891\n",
      "2019-05-05  0.293009 -0.111322 -1.520751 -0.728785\n"
     ]
    },
    {
     "data": {
      "text/plain": [
       "0.9020496997689477"
      ]
     },
     "execution_count": 47,
     "metadata": {},
     "output_type": "execute_result"
    }
   ],
   "source": [
    "print(df)\n",
    "df.iloc[1,1]"
   ]
  },
  {
   "cell_type": "code",
   "execution_count": 48,
   "metadata": {},
   "outputs": [
    {
     "data": {
      "text/plain": [
       "A   -0.269801\n",
       "B    0.527882\n",
       "C   -0.823341\n",
       "D   -0.748891\n",
       "Name: 2019-05-04 00:00:00, dtype: float64"
      ]
     },
     "execution_count": 48,
     "metadata": {},
     "output_type": "execute_result"
    }
   ],
   "source": [
    "df.iloc[3]"
   ]
  },
  {
   "cell_type": "code",
   "execution_count": 49,
   "metadata": {},
   "outputs": [
    {
     "data": {
      "text/plain": [
       "2019-05-01   -0.192635\n",
       "2019-05-02    0.902050\n",
       "2019-05-03   -2.269712\n",
       "2019-05-04    0.527882\n",
       "2019-05-05   -0.111322\n",
       "Freq: D, Name: B, dtype: float64"
      ]
     },
     "execution_count": 49,
     "metadata": {},
     "output_type": "execute_result"
    }
   ],
   "source": [
    "df.iloc[:,1]"
   ]
  },
  {
   "cell_type": "code",
   "execution_count": 50,
   "metadata": {},
   "outputs": [
    {
     "data": {
      "text/html": [
       "<div>\n",
       "<style scoped>\n",
       "    .dataframe tbody tr th:only-of-type {\n",
       "        vertical-align: middle;\n",
       "    }\n",
       "\n",
       "    .dataframe tbody tr th {\n",
       "        vertical-align: top;\n",
       "    }\n",
       "\n",
       "    .dataframe thead th {\n",
       "        text-align: right;\n",
       "    }\n",
       "</style>\n",
       "<table border=\"1\" class=\"dataframe\">\n",
       "  <thead>\n",
       "    <tr style=\"text-align: right;\">\n",
       "      <th></th>\n",
       "      <th>B</th>\n",
       "      <th>C</th>\n",
       "    </tr>\n",
       "  </thead>\n",
       "  <tbody>\n",
       "    <tr>\n",
       "      <th>2019-05-01</th>\n",
       "      <td>-0.192635</td>\n",
       "      <td>1.833757</td>\n",
       "    </tr>\n",
       "    <tr>\n",
       "      <th>2019-05-02</th>\n",
       "      <td>0.902050</td>\n",
       "      <td>0.740512</td>\n",
       "    </tr>\n",
       "    <tr>\n",
       "      <th>2019-05-03</th>\n",
       "      <td>-2.269712</td>\n",
       "      <td>-1.119312</td>\n",
       "    </tr>\n",
       "    <tr>\n",
       "      <th>2019-05-04</th>\n",
       "      <td>0.527882</td>\n",
       "      <td>-0.823341</td>\n",
       "    </tr>\n",
       "    <tr>\n",
       "      <th>2019-05-05</th>\n",
       "      <td>-0.111322</td>\n",
       "      <td>-1.520751</td>\n",
       "    </tr>\n",
       "  </tbody>\n",
       "</table>\n",
       "</div>"
      ],
      "text/plain": [
       "                   B         C\n",
       "2019-05-01 -0.192635  1.833757\n",
       "2019-05-02  0.902050  0.740512\n",
       "2019-05-03 -2.269712 -1.119312\n",
       "2019-05-04  0.527882 -0.823341\n",
       "2019-05-05 -0.111322 -1.520751"
      ]
     },
     "execution_count": 50,
     "metadata": {},
     "output_type": "execute_result"
    }
   ],
   "source": [
    "df.iloc[:,1:3]"
   ]
  },
  {
   "cell_type": "code",
   "execution_count": 51,
   "metadata": {},
   "outputs": [
    {
     "data": {
      "text/plain": [
       "0.45810656189864746"
      ]
     },
     "execution_count": 51,
     "metadata": {},
     "output_type": "execute_result"
    }
   ],
   "source": [
    "df.iat[0,0]"
   ]
  },
  {
   "cell_type": "markdown",
   "metadata": {},
   "source": [
    "# 关于索引的操作"
   ]
  },
  {
   "cell_type": "markdown",
   "metadata": {},
   "source": [
    "## 返回Series中最大/最小数据的column名称"
   ]
  },
  {
   "cell_type": "code",
   "execution_count": 58,
   "metadata": {},
   "outputs": [
    {
     "data": {
      "text/plain": [
       "'C'"
      ]
     },
     "execution_count": 58,
     "metadata": {},
     "output_type": "execute_result"
    }
   ],
   "source": [
    "s = df.loc[dates[0]]\n",
    "s.idxmax()"
   ]
  },
  {
   "cell_type": "code",
   "execution_count": 59,
   "metadata": {},
   "outputs": [
    {
     "data": {
      "text/plain": [
       "'B'"
      ]
     },
     "execution_count": 59,
     "metadata": {},
     "output_type": "execute_result"
    }
   ],
   "source": [
    "s.idxmin()"
   ]
  },
  {
   "cell_type": "markdown",
   "metadata": {},
   "source": [
    "## 返回Series中最大/最小数据的column位置\n",
    "这里注意，直接调用Series.argmax等同于idxmax且已经depricated。"
   ]
  },
  {
   "cell_type": "code",
   "execution_count": 62,
   "metadata": {},
   "outputs": [
    {
     "name": "stdout",
     "output_type": "stream",
     "text": [
      "A    0.458107\n",
      "B   -0.192635\n",
      "C    1.833757\n",
      "D    1.018542\n",
      "Name: 2019-05-01 00:00:00, dtype: float64\n",
      "2\n"
     ]
    }
   ],
   "source": [
    "print(s)\n",
    "print(s.values.argmax())"
   ]
  },
  {
   "cell_type": "code",
   "execution_count": 63,
   "metadata": {},
   "outputs": [
    {
     "data": {
      "text/plain": [
       "1"
      ]
     },
     "execution_count": 63,
     "metadata": {},
     "output_type": "execute_result"
    }
   ],
   "source": [
    "s.values.argmin()"
   ]
  }
 ],
 "metadata": {
  "kernelspec": {
   "display_name": "Python 3",
   "language": "python",
   "name": "python3"
  },
  "language_info": {
   "codemirror_mode": {
    "name": "ipython",
    "version": 3
   },
   "file_extension": ".py",
   "mimetype": "text/x-python",
   "name": "python",
   "nbconvert_exporter": "python",
   "pygments_lexer": "ipython3",
   "version": "3.7.3"
  }
 },
 "nbformat": 4,
 "nbformat_minor": 2
}
