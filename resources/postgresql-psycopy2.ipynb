{
 "cells": [
  {
   "cell_type": "code",
   "execution_count": 12,
   "metadata": {},
   "outputs": [],
   "source": [
    "import psycopg2\n",
    "import sys"
   ]
  },
  {
   "cell_type": "markdown",
   "metadata": {},
   "source": [
    "# 基本用法"
   ]
  },
  {
   "cell_type": "code",
   "execution_count": 3,
   "metadata": {},
   "outputs": [
    {
     "name": "stdout",
     "output_type": "stream",
     "text": [
      "PostgreSQL 10.9 (Ubuntu 10.9-0ubuntu0.18.04.1) on x86_64-pc-linux-gnu, compiled by gcc (Ubuntu 7.4.0-1ubuntu1~18.04.1) 7.4.0, 64-bit\n"
     ]
    }
   ],
   "source": [
    "con = psycopg2.connect(database='postgres', user='postgres',\n",
    "    password='')\n",
    "\n",
    "with con:\n",
    "    cur = con.cursor()\n",
    "    cur.execute('SELECT version()')\n",
    "\n",
    "    version = cur.fetchone()[0]\n",
    "    print(version)"
   ]
  },
  {
   "cell_type": "markdown",
   "metadata": {},
   "source": [
    "# 执行查询"
   ]
  },
  {
   "cell_type": "code",
   "execution_count": 5,
   "metadata": {},
   "outputs": [],
   "source": [
    "con = psycopg2.connect(database='testdb', user='postgres', password='')\n",
    "\n",
    "with con:\n",
    "    cur = con.cursor()\n",
    "    cur.execute(\"DROP TABLE IF EXISTS cars\")\n",
    "    cur.execute(\"CREATE TABLE cars(id SERIAL PRIMARY KEY, name VARCHAR(255), price INT)\")\n",
    "    cur.execute(\"INSERT INTO cars(name, price) VALUES('Audi', 52642)\")\n",
    "    cur.execute(\"INSERT INTO cars(name, price) VALUES('Mercedes', 57127)\")\n",
    "    cur.execute(\"INSERT INTO cars(name, price) VALUES('Skoda', 9000)\")\n",
    "    cur.execute(\"INSERT INTO cars(name, price) VALUES('Volvo', 29000)\")\n",
    "    cur.execute(\"INSERT INTO cars(name, price) VALUES('Bentley', 350000)\")\n",
    "    cur.execute(\"INSERT INTO cars(name, price) VALUES('Citroen', 21000)\")\n",
    "    cur.execute(\"INSERT INTO cars(name, price) VALUES('Hummer', 41400)\")\n",
    "    cur.execute(\"INSERT INTO cars(name, price) VALUES('Volkswagen', 21600)\")"
   ]
  },
  {
   "cell_type": "markdown",
   "metadata": {},
   "source": [
    "# executemany"
   ]
  },
  {
   "cell_type": "code",
   "execution_count": 7,
   "metadata": {},
   "outputs": [],
   "source": [
    "cars = (\n",
    "    (1, 'Audi', 52642),\n",
    "    (2, 'Mercedes', 57127),\n",
    "    (3, 'Skoda', 9000),\n",
    "    (4, 'Volvo', 29000),\n",
    "    (5, 'Bentley', 350000),\n",
    "    (6, 'Citroen', 21000),\n",
    "    (7, 'Hummer', 41400),\n",
    "    (8, 'Volkswagen', 21600)\n",
    ")\n",
    "\n",
    "con = psycopg2.connect(database='testdb', user='postgres', password='')\n",
    "\n",
    "with con:\n",
    "    cur = con.cursor()\n",
    "    cur.execute(\"DROP TABLE IF EXISTS cars\")\n",
    "    cur.execute(\"CREATE TABLE cars(id SERIAL PRIMARY KEY, name VARCHAR(255), price INT)\")\n",
    "    query = \"INSERT INTO cars (id, name, price) VALUES (%s, %s, %s)\"\n",
    "    cur.executemany(query, cars)\n",
    "    con.commit()"
   ]
  },
  {
   "cell_type": "markdown",
   "metadata": {},
   "source": [
    "# fetchall"
   ]
  },
  {
   "cell_type": "code",
   "execution_count": 8,
   "metadata": {
    "scrolled": true
   },
   "outputs": [
    {
     "name": "stdout",
     "output_type": "stream",
     "text": [
      "1 Audi 52642\n",
      "2 Mercedes 57127\n",
      "3 Skoda 9000\n",
      "4 Volvo 29000\n",
      "5 Bentley 350000\n",
      "6 Citroen 21000\n",
      "7 Hummer 41400\n",
      "8 Volkswagen 21600\n"
     ]
    }
   ],
   "source": [
    "con = psycopg2.connect(database='testdb', user='postgres',\n",
    "                    password='s$cret')\n",
    "\n",
    "with con:\n",
    "    cur = con.cursor()\n",
    "    cur.execute(\"SELECT * FROM cars\")\n",
    "    rows = cur.fetchall()\n",
    "    for row in rows:\n",
    "        print(f\"{row[0]} {row[1]} {row[2]}\")"
   ]
  },
  {
   "cell_type": "markdown",
   "metadata": {},
   "source": [
    "# fetchone"
   ]
  },
  {
   "cell_type": "code",
   "execution_count": 9,
   "metadata": {},
   "outputs": [
    {
     "name": "stdout",
     "output_type": "stream",
     "text": [
      "1 Audi 52642\n",
      "2 Mercedes 57127\n",
      "3 Skoda 9000\n",
      "4 Volvo 29000\n",
      "5 Bentley 350000\n",
      "6 Citroen 21000\n",
      "7 Hummer 41400\n",
      "8 Volkswagen 21600\n"
     ]
    }
   ],
   "source": [
    "con = psycopg2.connect(database='testdb', user='postgres',\n",
    "                    password='')\n",
    "\n",
    "with con:\n",
    "    cur = con.cursor()\n",
    "    cur.execute(\"SELECT * FROM cars\")\n",
    "\n",
    "    while True:\n",
    "        row = cur.fetchone()\n",
    "        if row == None:\n",
    "            break\n",
    "        print(f\"{row[0]} {row[1]} {row[2]}\")"
   ]
  },
  {
   "cell_type": "markdown",
   "metadata": {},
   "source": [
    "# 参数化查询"
   ]
  },
  {
   "cell_type": "markdown",
   "metadata": {},
   "source": [
    "## ANSI C printf format"
   ]
  },
  {
   "cell_type": "code",
   "execution_count": 10,
   "metadata": {},
   "outputs": [
    {
     "name": "stdout",
     "output_type": "stream",
     "text": [
      "Number of rows updated: 1\n"
     ]
    }
   ],
   "source": [
    "uId = 1\n",
    "uPrice = 62300\n",
    "\n",
    "con = psycopg2.connect(database='testdb', user='postgres',\n",
    "                    password='')\n",
    "with con:\n",
    "    cur = con.cursor()\n",
    "    cur.execute(\"UPDATE cars SET price=%s WHERE id=%s\", (uPrice, uId))\n",
    "    print(f\"Number of rows updated: {cur.rowcount}\")"
   ]
  },
  {
   "cell_type": "markdown",
   "metadata": {},
   "source": [
    "## Python extended format"
   ]
  },
  {
   "cell_type": "code",
   "execution_count": 11,
   "metadata": {
    "scrolled": true
   },
   "outputs": [
    {
     "name": "stdout",
     "output_type": "stream",
     "text": [
      "3 Skoda 9000\n"
     ]
    }
   ],
   "source": [
    "uid = 3\n",
    "con = psycopg2.connect(database='testdb', user='postgres',\n",
    "                    password='')\n",
    "with con:\n",
    "    cur = con.cursor()\n",
    "    cur.execute(\"SELECT * FROM cars WHERE id=%(id)s\", {'id': uid } )\n",
    "    row = cur.fetchone()\n",
    "    print(f'{row[0]} {row[1]} {row[2]}')"
   ]
  },
  {
   "cell_type": "markdown",
   "metadata": {},
   "source": [
    "# 导入和导出"
   ]
  },
  {
   "cell_type": "code",
   "execution_count": 14,
   "metadata": {},
   "outputs": [],
   "source": [
    "con = None\n",
    "fout = None\n",
    "\n",
    "try:\n",
    "    con = psycopg2.connect(database='testdb', user='postgres',\n",
    "                    password='')\n",
    "\n",
    "    cur = con.cursor()\n",
    "    fout = open('cars.csv', 'w')\n",
    "    cur.copy_to(fout, 'cars', sep=\"|\")\n",
    "    # cur.copy_from\n",
    "\n",
    "except psycopg2.DatabaseError as e:\n",
    "    print(f'Error {e}')\n",
    "    sys.exit(1)\n",
    "except IOError as e:\n",
    "    print(f'Error {e}')\n",
    "    sys.exit(1)\n",
    "finally:\n",
    "    if con:\n",
    "        con.close()\n",
    "    if fout:\n",
    "        fout.close()"
   ]
  }
 ],
 "metadata": {
  "kernelspec": {
   "display_name": "Python 3",
   "language": "python",
   "name": "python3"
  },
  "language_info": {
   "codemirror_mode": {
    "name": "ipython",
    "version": 3
   },
   "file_extension": ".py",
   "mimetype": "text/x-python",
   "name": "python",
   "nbconvert_exporter": "python",
   "pygments_lexer": "ipython3",
   "version": "3.7.3"
  }
 },
 "nbformat": 4,
 "nbformat_minor": 2
}
