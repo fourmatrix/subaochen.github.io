{
 "cells": [
  {
   "cell_type": "markdown",
   "metadata": {},
   "source": [
    "## 最简单和自然的输出方式"
   ]
  },
  {
   "cell_type": "code",
   "execution_count": 6,
   "metadata": {},
   "outputs": [
    {
     "name": "stdout",
     "output_type": "stream",
     "text": [
      "hello, world!\n",
      "hello,world!\n",
      "100\n",
      "a=100\n",
      "('c', 'java', 'python')\n"
     ]
    }
   ],
   "source": [
    "print(\"hello, world!\")\n",
    "print(\"hello,\" + \"world!\")\n",
    "a = 100\n",
    "print(a)\n",
    "# 这句会报错\n",
    "#print(\"a=\" + a)\n",
    "print(\"a=\" + str(a))\n",
    "l = (\"c\",\"java\",\"python\")\n",
    "print(l)"
   ]
  },
  {
   "cell_type": "markdown",
   "metadata": {},
   "source": [
    "## 使用format格式化输出"
   ]
  },
  {
   "cell_type": "code",
   "execution_count": 21,
   "metadata": {},
   "outputs": [
    {
     "name": "stdout",
     "output_type": "stream",
     "text": [
      "a=100,b=3.14159\n",
      "a= 100,b=3.14\n",
      "hello,world,hello\n",
      "name=zhangsan,age=22\n",
      "name=zhangsan,age=22\n"
     ]
    }
   ],
   "source": [
    "a = 100\n",
    "b = 3.14159\n",
    "print(\"a={},b={}\".format(a,b))\n",
    "# 使用和C语言差不多的字符串格式化定义，但是用{}包围格式化字符串，且使用:开头\n",
    "print(\"a={:4d},b={:.2f}\".format(a,b))\n",
    "print(\"{0},{1},{0}\".format(\"hello\",\"world\"))\n",
    "print(\"name={name},age={age}\".format(name=\"zhangsan\",age=\"22\"))\n",
    "name=\"zhangsan\"\n",
    "age=22\n",
    "# format的变种应用，更方便\n",
    "print(f\"name={name},age={age}\")"
   ]
  },
  {
   "cell_type": "markdown",
   "metadata": {},
   "source": [
    "## 使用%格式化输出\n",
    "这个网上的资料一大堆，因为已经被format取代，不再赘述。"
   ]
  }
 ],
 "metadata": {
  "kernelspec": {
   "display_name": "Python 3",
   "language": "python",
   "name": "python3"
  },
  "language_info": {
   "codemirror_mode": {
    "name": "ipython",
    "version": 3
   },
   "file_extension": ".py",
   "mimetype": "text/x-python",
   "name": "python",
   "nbconvert_exporter": "python",
   "pygments_lexer": "ipython3",
   "version": "3.7.3"
  }
 },
 "nbformat": 4,
 "nbformat_minor": 2
}
