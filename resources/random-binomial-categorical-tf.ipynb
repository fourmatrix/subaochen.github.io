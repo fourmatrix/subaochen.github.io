{
 "cells": [
  {
   "cell_type": "markdown",
   "metadata": {
    "toc": true
   },
   "source": [
    "<h1>Table of Contents<span class=\"tocSkip\"></span></h1>\n",
    "<div class=\"toc\"><ul class=\"toc-item\"></ul></div>"
   ]
  },
  {
   "cell_type": "markdown",
   "metadata": {},
   "source": [
    "# tf中的多项分布\n",
    "\n",
    "tf.random.categorical实现了多项分布的采样，其输入通常是神经网络的输出，详情可以参见：https://stackoverflow.com/questions/55063120/can-anyone-give-a-tiny-example-to-explain-the-params-of-tf-random-categorical\n",
    "\n",
    "此方法替代了过时的multinomial方法。\n",
    "\n",
    "本文运行于tensorflow 1.13版本。"
   ]
  },
  {
   "cell_type": "code",
   "execution_count": 1,
   "metadata": {},
   "outputs": [],
   "source": [
    "import tensorflow as tf\n",
    "tf.enable_eager_execution()\n",
    "import numpy as np"
   ]
  },
  {
   "cell_type": "markdown",
   "metadata": {},
   "source": [
    "tf.log 等价与 tf.math.log"
   ]
  },
  {
   "cell_type": "code",
   "execution_count": 2,
   "metadata": {},
   "outputs": [
    {
     "data": {
      "text/plain": [
       "<tf.Tensor: id=3, shape=(1, 10), dtype=int64, numpy=array([[3, 1, 1, 0, 3, 3, 2, 3, 3, 2]])>"
      ]
     },
     "execution_count": 2,
     "metadata": {},
     "output_type": "execute_result"
    }
   ],
   "source": [
    "logits = tf.log([[10., 10., 10., 10.]])\n",
    "num_samples = 10\n",
    "cat = tf.random.categorical(logits, num_samples)\n",
    "cat"
   ]
  },
  {
   "cell_type": "markdown",
   "metadata": {},
   "source": [
    "**结果解读**\n",
    "\n",
    "tf.random.categorical和one-hot编码有非常相似的设计思路。上面的logits是一个4维向量，表示4个类别(class)的概率，即一次实验可能的4种情况发生的概率。[10.,10.,10.,10]表示这4个类别的概率（未正则化）是相同的，那么当采样10次（num_samples)时，每次采样出现0,1,2,3种类别（情况）的概率是相同的，因此在结果中0-3在每个位置上是随机的。\n",
    "\n",
    "也就是说，结果给出的是每次采样到的类别，使用编号0-3表示。"
   ]
  },
  {
   "cell_type": "code",
   "execution_count": 3,
   "metadata": {},
   "outputs": [
    {
     "data": {
      "text/plain": [
       "<tf.Tensor: id=8, shape=(2, 20), dtype=int64, numpy=\n",
       "array([[2, 1, 3, 2, 2, 0, 2, 0, 0, 2, 3, 1, 0, 0, 0, 2, 1, 1, 1, 0],\n",
       "       [2, 3, 2, 3, 2, 3, 1, 2, 1, 1, 2, 3, 3, 2, 1, 3, 3, 3, 3, 3]])>"
      ]
     },
     "execution_count": 3,
     "metadata": {},
     "output_type": "execute_result"
    }
   ],
   "source": [
    "logits = tf.log([[10., 10., 10., 10.],\n",
    "                [0.,1.,2.,3.]])\n",
    "num_samples = 20\n",
    "cat = tf.random.categorical(logits, num_samples)\n",
    "cat"
   ]
  },
  {
   "cell_type": "markdown",
   "metadata": {},
   "source": [
    "**结果解读**\n",
    "\n",
    "重点关注logits的第二行[0.,1.,2.,3.]，表示4个类别（情况）中，1号类别不可能出现，3号类比出现的概率是2号类别的2倍，4号类别出现的概率是1号类别的3倍。因此，当采样10次时可以发现，0在各个位置都不会出现，3出现的几率最高。\n",
    "\n",
    "可视化参加下图，基本上符合logits中定义的概率分布。"
   ]
  },
  {
   "cell_type": "code",
   "execution_count": 12,
   "metadata": {},
   "outputs": [
    {
     "data": {
      "text/plain": [
       "<matplotlib.axes._subplots.AxesSubplot at 0x7ff38479e4e0>"
      ]
     },
     "execution_count": 12,
     "metadata": {},
     "output_type": "execute_result"
    },
    {
     "data": {
      "image/png": "[encoded data removed]",
      "text/plain": [
       "<Figure size 432x288 with 1 Axes>"
      ]
     },
     "metadata": {
      "needs_background": "light"
     },
     "output_type": "display_data"
    }
   ],
   "source": [
    "import pandas as pd\n",
    "pd.value_counts(cat[1,:].numpy()).plot.bar()"
   ]
  },
  {
   "cell_type": "code",
   "execution_count": 5,
   "metadata": {},
   "outputs": [
    {
     "name": "stdout",
     "output_type": "stream",
     "text": [
      "tf.Tensor(\n",
      "[[ 0.95217156 -0.08657972 -0.5858826   0.6170592 ]\n",
      " [ 0.10575847 -0.6206924  -0.7099539   1.0342921 ]], shape=(2, 4), dtype=float32)\n"
     ]
    }
   ],
   "source": [
    "r = tf.random.normal([2,4])\n",
    "print(r)"
   ]
  },
  {
   "cell_type": "code",
   "execution_count": 6,
   "metadata": {},
   "outputs": [
    {
     "data": {
      "text/plain": [
       "<tf.Tensor: id=24, shape=(2, 1), dtype=int64, numpy=\n",
       "array([[0],\n",
       "       [3]])>"
      ]
     },
     "execution_count": 6,
     "metadata": {},
     "output_type": "execute_result"
    }
   ],
   "source": [
    "logits = tf.log(r)\n",
    "tf.random.categorical(logits,1)"
   ]
  },
  {
   "cell_type": "markdown",
   "metadata": {},
   "source": [
    "**结果解读**\n",
    "\n",
    "可以看出，当从logits只采样1次的时候，`tf.random.categorical`实际上等同与做了`argmax`操作（不完全相同，argmax总是会返回最大概率的索引，但是categorical是个概率问题）：返回了最大概率的索引，这正是神经网络中最常见的使用方式。\n",
    "\n",
    "需要注意的是，`tf.random.categorical(logits,1)`返回的是一个shape为(logits.shape[0],1)的张量，因此如果需要得到最后一行（通常是预测值）标量的索引，需要进一步的这样操作："
   ]
  },
  {
   "cell_type": "code",
   "execution_count": 7,
   "metadata": {},
   "outputs": [
    {
     "data": {
      "text/plain": [
       "3"
      ]
     },
     "execution_count": 7,
     "metadata": {},
     "output_type": "execute_result"
    }
   ],
   "source": [
    "tf.random.categorical(logits,1)[-1,0].numpy()"
   ]
  },
  {
   "cell_type": "markdown",
   "metadata": {},
   "source": [
    "# 二项分布\n",
    "tensorflow的API设计在这里有点怪异，居然在tf.random包中找不到binomial方法。看一下numpy的API设计，在random包中整齐的排列了各种分布函数。\n",
    "\n",
    "一个二项分布的例子：n为实验次数，p为正例概率，size为采样个数。当size=1时表示生成（采用）一个随机数，其值在0-10之间，并且在7附件的概率高。多次执行，会发现每次执行的结果不一样。"
   ]
  },
  {
   "cell_type": "code",
   "execution_count": 8,
   "metadata": {},
   "outputs": [
    {
     "data": {
      "text/plain": [
       "array([ 6,  9,  4,  5,  6,  5,  5,  9,  8,  7,  5,  8,  8,  7,  8,  7,  7,\n",
       "        7,  8,  7,  7,  8,  5,  6,  8,  8,  5,  9,  6,  5,  7,  7,  8,  6,\n",
       "        5,  7,  5,  9,  9, 10,  8,  8,  8,  7,  7,  9,  8,  7,  7,  9,  8,\n",
       "        6,  7,  8,  7,  7,  4,  7,  6,  7,  8,  5,  9,  9,  8,  3,  6,  4,\n",
       "        6,  9,  7,  9,  7,  3,  9,  7,  6, 10,  6,  8,  6,  7,  8,  8, 10,\n",
       "        5,  6,  6,  8,  6,  9,  8, 10,  9, 10,  6,  7,  8,  6,  5])"
      ]
     },
     "execution_count": 8,
     "metadata": {},
     "output_type": "execute_result"
    }
   ],
   "source": [
    "a = np.random.binomial(n=10, p=0.7, size=100)\n",
    "a"
   ]
  },
  {
   "cell_type": "markdown",
   "metadata": {},
   "source": [
    "可视化，惊讶于pandas居然支持直接绘图！当然，要绘制更加复杂的图形，估计还得直接拿起matplotlib或者seaborn。"
   ]
  },
  {
   "cell_type": "code",
   "execution_count": 9,
   "metadata": {},
   "outputs": [
    {
     "data": {
      "text/plain": [
       "<matplotlib.axes._subplots.AxesSubplot at 0x7ff39c062ef0>"
      ]
     },
     "execution_count": 9,
     "metadata": {},
     "output_type": "execute_result"
    },
    {
     "data": {
      "image/png": "[encoded data removed]",
      "text/plain": [
       "<Figure size 432x288 with 1 Axes>"
      ]
     },
     "metadata": {
      "needs_background": "light"
     },
     "output_type": "display_data"
    }
   ],
   "source": [
    "import pandas as pd\n",
    "c = pd.value_counts(a) # 统计a中个元素出现的次数，也可以使用collections.Counter，但是不如pandas给出的结果直观\n",
    "c.sort_index().plot.bar() # pandas支持直接绘图，很强大，很直观\n",
    "\n",
    "#from collections import Counter\n",
    "#Counter(a)"
   ]
  },
  {
   "cell_type": "markdown",
   "metadata": {},
   "source": [
    "# numpy版的多项分布\n",
    "\n",
    "和二项分布类似，n为实验次数，pvals为概率分布向量，size为采样次数。"
   ]
  },
  {
   "cell_type": "markdown",
   "metadata": {},
   "source": [
    "1次采样获得1个三维向量，即返回值的shape为(1,3)："
   ]
  },
  {
   "cell_type": "code",
   "execution_count": 10,
   "metadata": {},
   "outputs": [
    {
     "data": {
      "text/plain": [
       "array([[4, 1, 5]])"
      ]
     },
     "execution_count": 10,
     "metadata": {},
     "output_type": "execute_result"
    }
   ],
   "source": [
    "a = np.random.multinomial(n=10, pvals=[0.2,0.4,0.4], size = 1) \n",
    "a # a.shape"
   ]
  },
  {
   "cell_type": "markdown",
   "metadata": {},
   "source": [
    "10次采样返回10个三维向量，即返回值的shape为(10,3)："
   ]
  },
  {
   "cell_type": "code",
   "execution_count": 11,
   "metadata": {},
   "outputs": [
    {
     "data": {
      "text/plain": [
       "array([[3, 7, 0],\n",
       "       [1, 4, 5],\n",
       "       [1, 6, 3],\n",
       "       [1, 3, 6],\n",
       "       [1, 4, 5],\n",
       "       [1, 3, 6],\n",
       "       [0, 6, 4],\n",
       "       [3, 5, 2],\n",
       "       [2, 1, 7],\n",
       "       [1, 4, 5]])"
      ]
     },
     "execution_count": 11,
     "metadata": {},
     "output_type": "execute_result"
    }
   ],
   "source": [
    "a = np.random.multinomial(n=10, pvals=[0.2,0.4,0.4], size = 10) \n",
    "a # a.shape"
   ]
  }
 ],
 "metadata": {
  "kernelspec": {
   "display_name": "Python 3",
   "language": "python",
   "name": "python3"
  },
  "language_info": {
   "codemirror_mode": {
    "name": "ipython",
    "version": 3
   },
   "file_extension": ".py",
   "mimetype": "text/x-python",
   "name": "python",
   "nbconvert_exporter": "python",
   "pygments_lexer": "ipython3",
   "version": "3.7.3"
  },
  "toc": {
   "base_numbering": 1,
   "nav_menu": {},
   "number_sections": true,
   "sideBar": true,
   "skip_h1_title": true,
   "title_cell": "Table of Contents",
   "title_sidebar": "Contents",
   "toc_cell": true,
   "toc_position": {},
   "toc_section_display": true,
   "toc_window_display": false
  }
 },
 "nbformat": 4,
 "nbformat_minor": 2
}
