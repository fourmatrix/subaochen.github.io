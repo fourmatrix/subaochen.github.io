{
 "cells": [
  {
   "cell_type": "code",
   "execution_count": 2,
   "metadata": {},
   "outputs": [],
   "source": [
    "import tensorflow as tf\n",
    "from tensorflow.keras import layers"
   ]
  },
  {
   "cell_type": "code",
   "execution_count": 14,
   "metadata": {},
   "outputs": [
    {
     "name": "stdout",
     "output_type": "stream",
     "text": [
      "(4, 100)\n"
     ]
    },
    {
     "data": {
      "text/plain": [
       "[<tf.Variable 'simple_rnn_cell_11/kernel:0' shape=(100, 64) dtype=float32, numpy=\n",
       " array([[ 0.17305313, -0.04345441, -0.08134009, ..., -0.18466026,\n",
       "         -0.17298894, -0.06836817],\n",
       "        [-0.19074708,  0.14106889,  0.12376858, ..., -0.04135908,\n",
       "         -0.05669548,  0.00722668],\n",
       "        [ 0.16523983,  0.13425858, -0.14493239, ..., -0.16101886,\n",
       "         -0.00610396, -0.15485534],\n",
       "        ...,\n",
       "        [ 0.06055517, -0.06858579,  0.11024906, ..., -0.11529274,\n",
       "         -0.00684397,  0.02163836],\n",
       "        [ 0.12075685, -0.00390317, -0.10966127, ..., -0.00454302,\n",
       "         -0.17870487,  0.05473164],\n",
       "        [ 0.1576417 , -0.0066056 ,  0.09189291, ..., -0.03259373,\n",
       "         -0.08633509, -0.13096869]], dtype=float32)>,\n",
       " <tf.Variable 'simple_rnn_cell_11/recurrent_kernel:0' shape=(64, 64) dtype=float32, numpy=\n",
       " array([[ 0.05694032, -0.06166146,  0.0295172 , ...,  0.11790332,\n",
       "         -0.13216656, -0.27373853],\n",
       "        [-0.02491485, -0.14575052,  0.10604253, ...,  0.10949105,\n",
       "         -0.02173682, -0.10913824],\n",
       "        [-0.08240488, -0.05147566, -0.32612836, ...,  0.01961447,\n",
       "         -0.00414376,  0.20806687],\n",
       "        ...,\n",
       "        [ 0.18630566,  0.11394505, -0.22292404, ...,  0.0897314 ,\n",
       "         -0.11087607,  0.04836334],\n",
       "        [-0.21366479,  0.16337523,  0.07770334, ...,  0.00144605,\n",
       "          0.02893576,  0.04957014],\n",
       "        [-0.09328301, -0.07005183,  0.03852726, ...,  0.05393722,\n",
       "         -0.09401007,  0.11209697]], dtype=float32)>,\n",
       " <tf.Variable 'simple_rnn_cell_11/bias:0' shape=(64,) dtype=float32, numpy=\n",
       " array([0., 0., 0., 0., 0., 0., 0., 0., 0., 0., 0., 0., 0., 0., 0., 0., 0.,\n",
       "        0., 0., 0., 0., 0., 0., 0., 0., 0., 0., 0., 0., 0., 0., 0., 0., 0.,\n",
       "        0., 0., 0., 0., 0., 0., 0., 0., 0., 0., 0., 0., 0., 0., 0., 0., 0.,\n",
       "        0., 0., 0., 0., 0., 0., 0., 0., 0., 0., 0., 0., 0.], dtype=float32)>]"
      ]
     },
     "execution_count": 14,
     "metadata": {},
     "output_type": "execute_result"
    }
   ],
   "source": [
    "x = tf.random.normal([4,80,100])\n",
    "xt0 = x[:,0,:]\n",
    "print(xt0.shape)\n",
    "cell = layers.SimpleRNNCell(64)\n",
    "out, ht1 = cell(xt0, [tf.zeros([4,64])])\n",
    "out.shape,ht1[0].shape\n",
    "id(out.shape),id(ht1[0])\n",
    "cell.trainable_variables"
   ]
  }
 ],
 "metadata": {
  "kernelspec": {
   "display_name": "Python 3",
   "language": "python",
   "name": "python3"
  },
  "language_info": {
   "codemirror_mode": {
    "name": "ipython",
    "version": 3
   },
   "file_extension": ".py",
   "mimetype": "text/x-python",
   "name": "python",
   "nbconvert_exporter": "python",
   "pygments_lexer": "ipython3",
   "version": "3.7.3"
  }
 },
 "nbformat": 4,
 "nbformat_minor": 2
}
