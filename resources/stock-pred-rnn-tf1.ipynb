{
 "cells": [
  {
   "cell_type": "markdown",
   "metadata": {},
   "source": [
    "# 使用RNN预测股票下一日的收盘价\n",
    "\n",
    "这基本是一个不可能完成的任务，不过作为RNN的练习，还是一个不错的题目：有数据，有场景，有吸引力。本案例主要参考：https://github.com/DarkKnight1991/Stock-Price-Prediction ，这是一个`many-to-one`的RNN案例，即通过前60日股价数据（open,close,high,low,volume）预测下一日的收盘价，其中feature size=5。\n",
    "\n",
    "先上运行结果图：![prediction result](images/stock-pred-result.png)\n",
    "\n",
    "But，这里仅仅是一个练习，不作为投资参考，请参见：https://www.blueskycapitalmanagement.com/machine-learning-in-finance-why-you-should-not-use-lstms-to-predict-the-stock-market/"
   ]
  },
  {
   "cell_type": "markdown",
   "metadata": {},
   "source": [
    "# 导入必要的包\n",
    "这里使用了sklearn包的MinMaxScaler进行数据的预处理。"
   ]
  },
  {
   "cell_type": "code",
   "execution_count": 1,
   "metadata": {},
   "outputs": [
    {
     "name": "stderr",
     "output_type": "stream",
     "text": [
      "Using TensorFlow backend.\n"
     ]
    }
   ],
   "source": [
    "# import tensorflow as tf\n",
    "# import tensorflow.keras as keras\n",
    "import numpy as np\n",
    "import os\n",
    "import sys\n",
    "import time\n",
    "import pandas as pd\n",
    "from tqdm._tqdm_notebook import tqdm_notebook\n",
    "import pickle\n",
    "from keras.models import Sequential, load_model\n",
    "from keras.layers import Dense, Dropout\n",
    "from keras.layers import LSTM\n",
    "from keras.callbacks import ModelCheckpoint, EarlyStopping, ReduceLROnPlateau, CSVLogger\n",
    "from keras import optimizers\n",
    "# from keras.wrappers.scikit_learn import KerasClassifier\n",
    "from sklearn.preprocessing import MinMaxScaler\n",
    "from sklearn.model_selection import train_test_split\n",
    "from sklearn.metrics import mean_squared_error\n",
    "import logging\n",
    "from matplotlib import pyplot as plt"
   ]
  },
  {
   "cell_type": "code",
   "execution_count": 2,
   "metadata": {},
   "outputs": [],
   "source": [
    "os.environ['TF_CPP_MIN_LOG_LEVEL'] = '2'\n",
    "logging.getLogger(\"tensorflow\").setLevel(logging.ERROR)\n",
    "os.environ['TZ'] = 'Asia/Shanghai'  # to set timezone; needed when running on cloud\n",
    "time.tzset()"
   ]
  },
  {
   "cell_type": "markdown",
   "metadata": {},
   "source": [
    "# 集中设置参数"
   ]
  },
  {
   "cell_type": "code",
   "execution_count": 3,
   "metadata": {},
   "outputs": [],
   "source": [
    "params = {\n",
    "    \"batch_size\": 20,  # 20<16<10, 25 was a bust\n",
    "    \"epochs\": 300, # 由于启用了earlyStopping机制，通常会提前终止\n",
    "    \"lr\": 0.00010000, # 学习率\n",
    "    \"time_steps\": 60 # RNN的(最大？)滑动窗口大小，这是使用60日的数据预测下一日的某个特征\n",
    "}\n",
    "\n",
    "iter_changes = \"dropout_layers_0.4_0.4\"\n",
    "DATA_FILE=\"ge.us.txt\"\n",
    "PATH_TO_DRIVE_ML_DATA=\"./\"\n",
    "INPUT_PATH = PATH_TO_DRIVE_ML_DATA+\"inputs\"\n",
    "OUTPUT_PATH = PATH_TO_DRIVE_ML_DATA+\"outputs/\"+time.strftime(\"%Y-%m-%d\")+\"/\"+iter_changes\n",
    "TIME_STEPS = params[\"time_steps\"]\n",
    "BATCH_SIZE = params[\"batch_size\"]\n",
    "stime = time.time()"
   ]
  },
  {
   "cell_type": "code",
   "execution_count": 4,
   "metadata": {},
   "outputs": [
    {
     "name": "stdout",
     "output_type": "stream",
     "text": [
      "Directory recreated ./outputs/2019-05-14/dropout_layers_0.4_0.4\n"
     ]
    }
   ],
   "source": [
    "# check if directory already exists\n",
    "if not os.path.exists(OUTPUT_PATH):\n",
    "    os.makedirs(OUTPUT_PATH)\n",
    "    print(\"Directory created\", OUTPUT_PATH)\n",
    "else:\n",
    "    os.rename(OUTPUT_PATH, OUTPUT_PATH+str(stime))\n",
    "    os.makedirs(OUTPUT_PATH)\n",
    "    print(\"Directory recreated\", OUTPUT_PATH)"
   ]
  },
  {
   "cell_type": "markdown",
   "metadata": {},
   "source": [
    "构造训练数据的方法参见下图，注意颜色相同的矩形块框出了输入数据和预测数据，图中的窗口尺寸（time_steps）是3，即使用前3天的数据预测下一日的收盘价。显然，如果样本数为`N`，则可划分的输入样本数为`N-time_steps`。\n",
    "\n",
    "![build serial time data](images/stock-pred-data.png)"
   ]
  },
  {
   "cell_type": "code",
   "execution_count": 5,
   "metadata": {},
   "outputs": [
    {
     "name": "stdout",
     "output_type": "stream",
     "text": [
      "['ge.us.txt']\n"
     ]
    }
   ],
   "source": [
    "def print_time(text, stime):\n",
    "    seconds = (time.time()-stime)\n",
    "    print(text, seconds//60,\"minutes : \",np.round(seconds%60),\"seconds\")\n",
    "\n",
    "\n",
    "def trim_dataset(mat,batch_size):\n",
    "    \"\"\"\n",
    "    trims dataset to a size that's divisible by BATCH_SIZE\n",
    "    \"\"\"\n",
    "    no_of_rows_drop = mat.shape[0]%batch_size\n",
    "    if no_of_rows_drop > 0:\n",
    "        return mat[:-no_of_rows_drop]\n",
    "    else:\n",
    "        return mat\n",
    "\n",
    "\n",
    "def build_timeseries(mat, y_col_index):\n",
    "    \"\"\"\n",
    "    Converts ndarray into timeseries format and supervised data format. Takes first TIME_STEPS\n",
    "    number of rows as input and sets the TIME_STEPS+1th data as corresponding output and so on.\n",
    "    :param mat: ndarray which holds the dataset\n",
    "    :param y_col_index: index of column which acts as output\n",
    "    :return: returns two ndarrays-- input and output in format suitable to feed\n",
    "    to LSTM.\n",
    "    \"\"\"\n",
    "    # total number of time-series samples would be len(mat) - TIME_STEPS\n",
    "    dim_0 = mat.shape[0] - TIME_STEPS\n",
    "    dim_1 = mat.shape[1]\n",
    "    x = np.zeros((dim_0, TIME_STEPS, dim_1))\n",
    "    y = np.zeros((dim_0,))\n",
    "    print(\"dim_0\",dim_0)\n",
    "    for i in tqdm_notebook(range(dim_0)):\n",
    "        x[i] = mat[i:TIME_STEPS+i]\n",
    "        y[i] = mat[TIME_STEPS+i, y_col_index]\n",
    "#         if i < 10:\n",
    "#           print(i,\"-->\", x[i,-1,:], y[i])\n",
    "    print(\"length of time-series i/o\",x.shape,y.shape)\n",
    "    return x, y\n",
    "\n",
    "\n",
    "stime = time.time()\n",
    "print(os.listdir(INPUT_PATH))"
   ]
  },
  {
   "cell_type": "markdown",
   "metadata": {},
   "source": [
    "# 构造训练数据\n",
    "\n",
    "Again，RNN的输入数据要求的shape是(batch_size, time_steps, feature_size)"
   ]
  },
  {
   "cell_type": "code",
   "execution_count": 6,
   "metadata": {},
   "outputs": [
    {
     "name": "stdout",
     "output_type": "stream",
     "text": [
      "(14058, 7)\n",
      "             Date   Open    High    Low  Close     Volume  OpenInt\n",
      "14053  2017-11-06  20.52  20.530  20.08  20.13   60641787        0\n",
      "14054  2017-11-07  20.17  20.250  20.12  20.21   41622851        0\n",
      "14055  2017-11-08  20.21  20.320  20.07  20.12   39672190        0\n",
      "14056  2017-11-09  20.04  20.071  19.85  19.99   50831779        0\n",
      "14057  2017-11-10  19.98  20.680  19.90  20.49  100698474        0\n",
      "Date        object\n",
      "Open       float64\n",
      "High       float64\n",
      "Low        float64\n",
      "Close      float64\n",
      "Volume       int64\n",
      "OpenInt      int64\n",
      "dtype: object\n",
      "Train--Test size 11246 2812\n",
      "Deleting unused dataframes of total size(KB) 3267\n",
      "Are any NaNs present in train/test matrices? False False\n",
      "dim_0 11186\n"
     ]
    },
    {
     "data": {
      "application/vnd.jupyter.widget-view+json": {
       "model_id": "fe4425be00d34d56848a60ca72acc8f5",
       "version_major": 2,
       "version_minor": 0
      },
      "text/plain": [
       "HBox(children=(IntProgress(value=0, max=11186), HTML(value='')))"
      ]
     },
     "metadata": {},
     "output_type": "display_data"
    },
    {
     "name": "stdout",
     "output_type": "stream",
     "text": [
      "\n",
      "length of time-series i/o (11186, 60, 5) (11186,)\n",
      "Batch trimmed x_t size (11180, 60, 5)\n",
      "Batch trimmed y_t size (11180,)\n"
     ]
    }
   ],
   "source": [
    "df_ge = pd.read_csv(os.path.join(INPUT_PATH, DATA_FILE))\n",
    "print(df_ge.shape)\n",
    "print(df_ge.tail())\n",
    "tqdm_notebook.pandas('Processing...')\n",
    "print(df_ge.dtypes)\n",
    "train_cols = [\"Open\",\"High\",\"Low\",\"Close\",\"Volume\"]\n",
    "df_train, df_test = train_test_split(df_ge, train_size=0.8, test_size=0.2, shuffle=False)\n",
    "print(\"Train--Test size\", len(df_train), len(df_test))\n",
    "\n",
    "# scale the feature MinMax, build array\n",
    "x = df_train.loc[:,train_cols].values\n",
    "min_max_scaler = MinMaxScaler()\n",
    "x_train = min_max_scaler.fit_transform(x)\n",
    "x_test = min_max_scaler.transform(df_test.loc[:,train_cols])\n",
    "\n",
    "print(\"Deleting unused dataframes of total size(KB)\",\n",
    "      (sys.getsizeof(df_ge)+sys.getsizeof(df_train)+sys.getsizeof(df_test))//1024)\n",
    "\n",
    "del df_ge\n",
    "del df_test\n",
    "del df_train\n",
    "del x\n",
    "\n",
    "print(\"Are any NaNs present in train/test matrices?\",np.isnan(x_train).any(), np.isnan(x_train).any())\n",
    "x_t, y_t = build_timeseries(x_train, 3)\n",
    "x_t = trim_dataset(x_t, BATCH_SIZE)\n",
    "y_t = trim_dataset(y_t, BATCH_SIZE)\n",
    "print(\"Batch trimmed x_t size\",x_t.shape)\n",
    "print(\"Batch trimmed y_t size\",y_t.shape)"
   ]
  },
  {
   "cell_type": "markdown",
   "metadata": {},
   "source": [
    "# 创建训练模型\n",
    "batch_input_shape中的第二个参数分别为None和TIME_STEPS的区别何在？\n",
    "* None:\n",
    "* TIME_STEPS(60):"
   ]
  },
  {
   "cell_type": "code",
   "execution_count": 7,
   "metadata": {},
   "outputs": [
    {
     "name": "stdout",
     "output_type": "stream",
     "text": [
      "Model not found\n",
      "_________________________________________________________________\n",
      "Layer (type)                 Output Shape              Param #   \n",
      "=================================================================\n",
      "lstm_1 (LSTM)                (20, None, 100)           42400     \n",
      "_________________________________________________________________\n",
      "dropout_1 (Dropout)          (20, None, 100)           0         \n",
      "_________________________________________________________________\n",
      "lstm_2 (LSTM)                (20, 60)                  38640     \n",
      "_________________________________________________________________\n",
      "dropout_2 (Dropout)          (20, 60)                  0         \n",
      "_________________________________________________________________\n",
      "dense_1 (Dense)              (20, 20)                  1220      \n",
      "_________________________________________________________________\n",
      "dense_2 (Dense)              (20, 1)                   21        \n",
      "=================================================================\n",
      "Total params: 82,281\n",
      "Trainable params: 82,281\n",
      "Non-trainable params: 0\n",
      "_________________________________________________________________\n"
     ]
    }
   ],
   "source": [
    "def create_model():\n",
    "    lstm_model = Sequential()\n",
    "    # (batch_size, timesteps, data_dim)\n",
    "    lstm_model.add(LSTM(100, batch_input_shape=(BATCH_SIZE, None, x_t.shape[2]),\n",
    "                        dropout=0.0, recurrent_dropout=0.0, stateful=True, return_sequences=True,\n",
    "                        kernel_initializer='random_uniform'))\n",
    "    lstm_model.add(Dropout(0.4))\n",
    "    lstm_model.add(LSTM(60, dropout=0.0))\n",
    "    lstm_model.add(Dropout(0.4))\n",
    "    lstm_model.add(Dense(20,activation='relu'))\n",
    "    lstm_model.add(Dense(1,activation='sigmoid'))\n",
    "    # 在这里SGD很难得到理想的结果，RMSprop一般可以比较好的收敛\n",
    "    optimizer = optimizers.RMSprop(lr=params[\"lr\"])\n",
    "    #optimizer = optimizers.SGD(lr=0.000001, decay=1e-6, momentum=0.9, nesterov=True)\n",
    "    lstm_model.compile(loss='mean_squared_error', optimizer=optimizer)\n",
    "    return lstm_model\n",
    "\n",
    "\n",
    "model = None\n",
    "try:\n",
    "    model = pickle.load(open(\"lstm_model\", 'rb'))\n",
    "    print(\"Loaded saved model:\",model)\n",
    "    model.summary()\n",
    "except FileNotFoundError:\n",
    "    print(\"Model not found\")\n",
    "    model = create_model()\n",
    "\n",
    "model.summary()"
   ]
  },
  {
   "cell_type": "markdown",
   "metadata": {},
   "source": [
    "# 准备测试数据和验证数据"
   ]
  },
  {
   "cell_type": "code",
   "execution_count": 8,
   "metadata": {},
   "outputs": [
    {
     "name": "stdout",
     "output_type": "stream",
     "text": [
      "dim_0 2752\n"
     ]
    },
    {
     "data": {
      "application/vnd.jupyter.widget-view+json": {
       "model_id": "1e71e3cb5a234026b0f7437385c7c647",
       "version_major": 2,
       "version_minor": 0
      },
      "text/plain": [
       "HBox(children=(IntProgress(value=0, max=2752), HTML(value='')))"
      ]
     },
     "metadata": {},
     "output_type": "display_data"
    },
    {
     "name": "stdout",
     "output_type": "stream",
     "text": [
      "\n",
      "length of time-series i/o (2752, 60, 5) (2752,)\n",
      "Test size (1370, 60, 5) (1370,) (1370, 60, 5) (1370,)\n"
     ]
    }
   ],
   "source": [
    "x_temp, y_temp = build_timeseries(x_test, 3)\n",
    "x_val, x_test_t = np.split(trim_dataset(x_temp, BATCH_SIZE),2)\n",
    "y_val, y_test_t = np.split(trim_dataset(y_temp, BATCH_SIZE),2)\n",
    "\n",
    "print(\"Test size\", x_test_t.shape, y_test_t.shape, x_val.shape, y_val.shape)"
   ]
  },
  {
   "cell_type": "markdown",
   "metadata": {},
   "source": [
    "BATCH_SIZE对执行速度影响很大，以下是一些测试结果：\n",
    "\n",
    "|BATCH_SIZE|耗时（s/epoch)|\n",
    "|------|------|\n",
    "|10|50|\n",
    "|20|50|\n",
    "|512|5|\n",
    "\n",
    "但是，过大的batch_size会影响预测结果，参见：https://datascience.stackexchange.com/questions/16807/why-mini-batch-size-is-better-than-one-single-batch-with-all-training-data"
   ]
  },
  {
   "cell_type": "code",
   "execution_count": 9,
   "metadata": {
    "scrolled": true
   },
   "outputs": [
    {
     "name": "stdout",
     "output_type": "stream",
     "text": [
      "Train on 11180 samples, validate on 1360 samples\n",
      "Epoch 1/300\n",
      "11180/11180 [==============================] - 25s 2ms/step - loss: 0.0226 - val_loss: 0.0433\n",
      "\n",
      "Epoch 00001: val_loss improved from inf to 0.04329, saving model to ./outputs/2019-05-14/dropout_layers_0.4_0.4/best_model.h5\n",
      "Epoch 2/300\n",
      "11180/11180 [==============================] - 27s 2ms/step - loss: 0.0095 - val_loss: 0.0079\n",
      "\n",
      "Epoch 00002: val_loss improved from 0.04329 to 0.00788, saving model to ./outputs/2019-05-14/dropout_layers_0.4_0.4/best_model.h5\n",
      "Epoch 3/300\n",
      "11180/11180 [==============================] - 27s 2ms/step - loss: 0.0025 - val_loss: 0.0019\n",
      "\n",
      "Epoch 00003: val_loss improved from 0.00788 to 0.00188, saving model to ./outputs/2019-05-14/dropout_layers_0.4_0.4/best_model.h5\n",
      "Epoch 4/300\n",
      "11180/11180 [==============================] - 26s 2ms/step - loss: 0.0019 - val_loss: 0.0015\n",
      "\n",
      "Epoch 00004: val_loss improved from 0.00188 to 0.00155, saving model to ./outputs/2019-05-14/dropout_layers_0.4_0.4/best_model.h5\n",
      "Epoch 5/300\n",
      "11180/11180 [==============================] - 26s 2ms/step - loss: 0.0018 - val_loss: 0.0014\n",
      "\n",
      "Epoch 00005: val_loss improved from 0.00155 to 0.00143, saving model to ./outputs/2019-05-14/dropout_layers_0.4_0.4/best_model.h5\n",
      "Epoch 6/300\n",
      "11180/11180 [==============================] - 27s 2ms/step - loss: 0.0015 - val_loss: 0.0016\n",
      "\n",
      "Epoch 00006: val_loss did not improve from 0.00143\n",
      "Epoch 7/300\n",
      "11180/11180 [==============================] - 27s 2ms/step - loss: 0.0014 - val_loss: 0.0022\n",
      "\n",
      "Epoch 00007: val_loss did not improve from 0.00143\n",
      "Epoch 8/300\n",
      "11180/11180 [==============================] - 26s 2ms/step - loss: 0.0013 - val_loss: 0.0041\n",
      "\n",
      "Epoch 00008: val_loss did not improve from 0.00143\n",
      "Epoch 9/300\n",
      "11180/11180 [==============================] - 26s 2ms/step - loss: 0.0013 - val_loss: 0.0047\n",
      "\n",
      "Epoch 00009: val_loss did not improve from 0.00143\n",
      "Epoch 10/300\n",
      "11180/11180 [==============================] - 26s 2ms/step - loss: 0.0012 - val_loss: 0.0079\n",
      "\n",
      "Epoch 00010: val_loss did not improve from 0.00143\n",
      "Epoch 11/300\n",
      "11180/11180 [==============================] - 26s 2ms/step - loss: 0.0012 - val_loss: 0.0085\n",
      "\n",
      "Epoch 00011: val_loss did not improve from 0.00143\n",
      "Epoch 12/300\n",
      "11180/11180 [==============================] - 27s 2ms/step - loss: 0.0011 - val_loss: 0.0085\n",
      "\n",
      "Epoch 00012: val_loss did not improve from 0.00143\n",
      "Epoch 13/300\n",
      "11180/11180 [==============================] - 27s 2ms/step - loss: 0.0011 - val_loss: 0.0097\n",
      "\n",
      "Epoch 00013: val_loss did not improve from 0.00143\n",
      "Epoch 14/300\n",
      "11180/11180 [==============================] - 26s 2ms/step - loss: 0.0011 - val_loss: 0.0102\n",
      "\n",
      "Epoch 00014: val_loss did not improve from 0.00143\n",
      "Epoch 15/300\n",
      "11180/11180 [==============================] - 26s 2ms/step - loss: 0.0011 - val_loss: 0.0103\n",
      "\n",
      "Epoch 00015: val_loss did not improve from 0.00143\n",
      "Epoch 16/300\n",
      "11180/11180 [==============================] - 27s 2ms/step - loss: 0.0010 - val_loss: 0.0106\n",
      "\n",
      "Epoch 00016: val_loss did not improve from 0.00143\n",
      "Epoch 17/300\n",
      "11180/11180 [==============================] - 26s 2ms/step - loss: 0.0010 - val_loss: 0.0092\n",
      "\n",
      "Epoch 00017: val_loss did not improve from 0.00143\n",
      "Epoch 18/300\n",
      "11180/11180 [==============================] - 26s 2ms/step - loss: 9.6933e-04 - val_loss: 0.0096\n",
      "\n",
      "Epoch 00018: val_loss did not improve from 0.00143\n",
      "Epoch 19/300\n",
      "11180/11180 [==============================] - 27s 2ms/step - loss: 9.8774e-04 - val_loss: 0.0085\n",
      "\n",
      "Epoch 00019: val_loss did not improve from 0.00143\n",
      "Epoch 20/300\n",
      "11180/11180 [==============================] - 27s 2ms/step - loss: 9.7314e-04 - val_loss: 0.0096\n",
      "\n",
      "Epoch 00020: val_loss did not improve from 0.00143\n",
      "Epoch 21/300\n",
      "11180/11180 [==============================] - 26s 2ms/step - loss: 0.0010 - val_loss: 0.0079\n",
      "\n",
      "Epoch 00021: val_loss did not improve from 0.00143\n",
      "Epoch 22/300\n",
      "11180/11180 [==============================] - 26s 2ms/step - loss: 8.7517e-04 - val_loss: 0.0070\n",
      "\n",
      "Epoch 00022: val_loss did not improve from 0.00143\n",
      "Epoch 23/300\n",
      "11180/11180 [==============================] - 27s 2ms/step - loss: 8.9317e-04 - val_loss: 0.0064\n",
      "\n",
      "Epoch 00023: val_loss did not improve from 0.00143\n",
      "Epoch 24/300\n",
      "11180/11180 [==============================] - 26s 2ms/step - loss: 8.8555e-04 - val_loss: 0.0047\n",
      "\n",
      "Epoch 00024: val_loss did not improve from 0.00143\n",
      "Epoch 25/300\n",
      "11180/11180 [==============================] - 27s 2ms/step - loss: 7.8808e-04 - val_loss: 0.0047\n",
      "\n",
      "Epoch 00025: val_loss did not improve from 0.00143\n",
      "Epoch 26/300\n",
      "11180/11180 [==============================] - 26s 2ms/step - loss: 7.8289e-04 - val_loss: 0.0055\n",
      "\n",
      "Epoch 00026: val_loss did not improve from 0.00143\n",
      "Epoch 27/300\n",
      "11180/11180 [==============================] - 26s 2ms/step - loss: 7.7849e-04 - val_loss: 0.0046\n",
      "\n",
      "Epoch 00027: val_loss did not improve from 0.00143\n",
      "Epoch 28/300\n",
      "11180/11180 [==============================] - 26s 2ms/step - loss: 7.0239e-04 - val_loss: 0.0049\n",
      "\n",
      "Epoch 00028: val_loss did not improve from 0.00143\n",
      "Epoch 29/300\n",
      "11180/11180 [==============================] - 26s 2ms/step - loss: 7.4931e-04 - val_loss: 0.0046\n",
      "\n",
      "Epoch 00029: val_loss did not improve from 0.00143\n",
      "Epoch 30/300\n",
      "11180/11180 [==============================] - 26s 2ms/step - loss: 6.8258e-04 - val_loss: 0.0057\n",
      "\n",
      "Epoch 00030: val_loss did not improve from 0.00143\n",
      "Epoch 31/300\n",
      "11180/11180 [==============================] - 26s 2ms/step - loss: 7.3312e-04 - val_loss: 0.0052\n",
      "\n",
      "Epoch 00031: val_loss did not improve from 0.00143\n",
      "Epoch 32/300\n",
      "11180/11180 [==============================] - 26s 2ms/step - loss: 7.0336e-04 - val_loss: 0.0045\n",
      "\n",
      "Epoch 00032: val_loss did not improve from 0.00143\n",
      "Epoch 33/300\n",
      "11180/11180 [==============================] - 26s 2ms/step - loss: 6.6879e-04 - val_loss: 0.0050\n",
      "\n",
      "Epoch 00033: val_loss did not improve from 0.00143\n",
      "Epoch 34/300\n",
      "11180/11180 [==============================] - 26s 2ms/step - loss: 6.7561e-04 - val_loss: 0.0040\n",
      "\n",
      "Epoch 00034: val_loss did not improve from 0.00143\n",
      "Epoch 35/300\n",
      "11180/11180 [==============================] - 25s 2ms/step - loss: 6.4280e-04 - val_loss: 0.0049\n",
      "\n",
      "Epoch 00035: val_loss did not improve from 0.00143\n",
      "Epoch 36/300\n",
      "11180/11180 [==============================] - 26s 2ms/step - loss: 6.7480e-04 - val_loss: 0.0050\n",
      "\n",
      "Epoch 00036: val_loss did not improve from 0.00143\n",
      "Epoch 37/300\n",
      "11180/11180 [==============================] - 26s 2ms/step - loss: 6.5811e-04 - val_loss: 0.0050\n",
      "\n",
      "Epoch 00037: val_loss did not improve from 0.00143\n",
      "Epoch 38/300\n",
      "11180/11180 [==============================] - 27s 2ms/step - loss: 6.4114e-04 - val_loss: 0.0052\n",
      "\n",
      "Epoch 00038: val_loss did not improve from 0.00143\n",
      "Epoch 39/300\n",
      "11180/11180 [==============================] - 26s 2ms/step - loss: 6.5534e-04 - val_loss: 0.0053\n",
      "\n",
      "Epoch 00039: val_loss did not improve from 0.00143\n",
      "Epoch 40/300\n",
      "11180/11180 [==============================] - 26s 2ms/step - loss: 6.2556e-04 - val_loss: 0.0051\n",
      "\n",
      "Epoch 00040: val_loss did not improve from 0.00143\n",
      "Epoch 41/300\n",
      "11180/11180 [==============================] - 26s 2ms/step - loss: 6.2896e-04 - val_loss: 0.0052\n",
      "\n",
      "Epoch 00041: val_loss did not improve from 0.00143\n",
      "Epoch 42/300\n",
      "11180/11180 [==============================] - 26s 2ms/step - loss: 6.1232e-04 - val_loss: 0.0048\n",
      "\n",
      "Epoch 00042: val_loss did not improve from 0.00143\n",
      "Epoch 43/300\n",
      "11180/11180 [==============================] - 26s 2ms/step - loss: 6.1168e-04 - val_loss: 0.0050\n",
      "\n",
      "Epoch 00043: val_loss did not improve from 0.00143\n",
      "Epoch 44/300\n",
      "11180/11180 [==============================] - 27s 2ms/step - loss: 6.0014e-04 - val_loss: 0.0050\n",
      "\n",
      "Epoch 00044: val_loss did not improve from 0.00143\n",
      "Epoch 45/300\n",
      "11180/11180 [==============================] - 26s 2ms/step - loss: 6.3907e-04 - val_loss: 0.0047\n",
      "\n",
      "Epoch 00045: val_loss did not improve from 0.00143\n",
      "Epoch 00045: early stopping\n",
      "saving model...\n"
     ]
    }
   ],
   "source": [
    "is_update_model = True\n",
    "if model is None or is_update_model:\n",
    "#     from keras import backend as K\n",
    "#     print(\"Building model...\")\n",
    "#     print(\"checking if GPU available\", K.tensorflow_backend._get_available_gpus())\n",
    "\n",
    "    es = EarlyStopping(monitor='val_loss', mode='min', verbose=1,\n",
    "                       patience=40, min_delta=0.0001)\n",
    "    \n",
    "    mcp = ModelCheckpoint(os.path.join(OUTPUT_PATH,\n",
    "                          \"best_model.h5\"), monitor='val_loss', verbose=1,\n",
    "                          save_best_only=True, save_weights_only=False, mode='min', period=1)\n",
    "\n",
    "    # Not used here. But leaving it here as a reminder for future\n",
    "    r_lr_plat = ReduceLROnPlateau(monitor='val_loss', factor=0.1, patience=30, \n",
    "                                  verbose=0, mode='auto', min_delta=0.0001, cooldown=0, min_lr=0)\n",
    "    \n",
    "    csv_logger = CSVLogger(os.path.join(OUTPUT_PATH, 'training_log_' + time.ctime().replace(\" \",\"_\") + '.log'), append=True)\n",
    "    \n",
    "    history = model.fit(x_t, y_t, epochs=params[\"epochs\"], verbose=1, batch_size=BATCH_SIZE,\n",
    "                        shuffle=False, validation_data=(trim_dataset(x_val, BATCH_SIZE),\n",
    "                        trim_dataset(y_val, BATCH_SIZE)), callbacks=[es, csv_logger, mcp])\n",
    "    \n",
    "    print(\"saving model...\")\n",
    "    pickle.dump(model, open(\"lstm_model\", \"wb\"))"
   ]
  },
  {
   "cell_type": "code",
   "execution_count": 10,
   "metadata": {},
   "outputs": [],
   "source": [
    "#model.evaluate(x_test_t, y_test_t, batch_size=BATCH_SIZE)"
   ]
  },
  {
   "cell_type": "markdown",
   "metadata": {},
   "source": [
    "# 预测\n",
    "根据x_test_t进行预测"
   ]
  },
  {
   "cell_type": "code",
   "execution_count": 11,
   "metadata": {
    "scrolled": true
   },
   "outputs": [
    {
     "data": {
      "image/png": "[encoded data removed]",
      "text/plain": [
       "<Figure size 432x288 with 1 Axes>"
      ]
     },
     "metadata": {
      "needs_background": "light"
     },
     "output_type": "display_data"
    },
    {
     "data": {
      "text/plain": [
       "<Figure size 432x288 with 0 Axes>"
      ]
     },
     "metadata": {},
     "output_type": "display_data"
    }
   ],
   "source": [
    "# Visualize the training data\n",
    "from matplotlib import pyplot as plt\n",
    "plt.figure()\n",
    "plt.plot(history.history['loss'])\n",
    "plt.plot(history.history['val_loss'])\n",
    "plt.title('Model loss')\n",
    "plt.ylabel('Loss')\n",
    "plt.xlabel('Epoch')\n",
    "plt.legend(['Train', 'Test'])\n",
    "plt.show()\n",
    "plt.savefig(os.path.join(OUTPUT_PATH, 'train_vis_BS_'+str(BATCH_SIZE)+\"_\"+time.ctime()+'.png'))"
   ]
  },
  {
   "cell_type": "code",
   "execution_count": 12,
   "metadata": {},
   "outputs": [],
   "source": [
    "def plot_pred(pred, real, title):\n",
    "    \"\"\"绘制预测和实际的比较图\"\"\"\n",
    "    plt.figure()\n",
    "    plt.plot(pred)\n",
    "    plt.plot(real)\n",
    "    plt.title(title)\n",
    "    plt.ylabel('Price')\n",
    "    plt.xlabel('Days')\n",
    "    plt.legend(['Prediction', 'Real'])\n",
    "    plt.show()\n",
    "\n",
    "def stock_pred(x, y, debug=True, title='Prediction vs Real Stock Price', batch_size=BATCH_SIZE):\n",
    "    '''\n",
    "    收盘价预测\n",
    "    但是，这里没有越雷池一步，即没有往前走哪怕一小步。\n",
    "    x: 输入样本列表\n",
    "    y：labels，真实股价列表\n",
    "    batch_size: 进行预测时的batch_size。当给出的样本数量小时，需要减少batch_size以适配之\n",
    "    '''\n",
    "    print('batch size:',batch_size)\n",
    "    y_pred = model.predict(trim_dataset(x, batch_size), batch_size=batch_size)\n",
    "    if debug==True:\n",
    "        print(y_pred)\n",
    "    y_pred = y_pred.flatten()\n",
    "    y_test_t = trim_dataset(y, batch_size)\n",
    "    error = mean_squared_error(y_test_t, y_pred)\n",
    "    if debug==True:\n",
    "        print(\"Error is\", error, y_pred.shape, y_test_t.shape)\n",
    "        print(y_pred[0:15])\n",
    "        print(y_test_t[0:15])\n",
    "    y_pred_org = (y_pred * min_max_scaler.data_range_[3]) + min_max_scaler.data_min_[3] # min_max_scaler.inverse_transform(y_pred)\n",
    "    y_test_t_org = (y_test_t * min_max_scaler.data_range_[3]) + min_max_scaler.data_min_[3] # min_max_scaler.inverse_transform(y_test_t)\n",
    "    if debug==True:\n",
    "        print(y_pred_org[0:15])\n",
    "        print(y_test_t_org[0:15])\n",
    "\n",
    "    # Visualize the prediction\n",
    "    plot_pred(y_pred_org, y_test_t_org, title)\n",
    "    plt.savefig(os.path.join(OUTPUT_PATH, 'pred_vs_real_BS'+str(batch_size)+\"_\"+str(len(x))+'.png'))"
   ]
  },
  {
   "cell_type": "code",
   "execution_count": 13,
   "metadata": {},
   "outputs": [
    {
     "name": "stdout",
     "output_type": "stream",
     "text": [
      "batch size: 20\n",
      "[[0.37750882]\n",
      " [0.37632585]\n",
      " [0.3749697 ]\n",
      " ...\n",
      " [0.5292505 ]\n",
      " [0.5260318 ]\n",
      " [0.52293617]]\n",
      "Error is 0.0012938168885484698 (1360,) (1360,)\n",
      "[0.37750882 0.37632585 0.3749697  0.3743537  0.37393045 0.37321663\n",
      " 0.37325916 0.37394953 0.37472585 0.3753387  0.37561515 0.37525105\n",
      " 0.37437958 0.3739487  0.37241387]\n",
      "[0.32378063 0.32499919 0.32800358 0.32905407 0.32905407 0.33031465\n",
      " 0.32943225 0.33205846 0.32659593 0.32747834 0.31770881 0.31092267\n",
      " 0.31258244 0.32378063 0.32592362]\n",
      "[18.427301 18.370995 18.306446 18.277126 18.25698  18.223005 18.225029\n",
      " 18.257889 18.29484  18.324009 18.337168 18.319838 18.278358 18.257849\n",
      " 18.184797]\n",
      "[15.87  15.928 16.071 16.121 16.121 16.181 16.139 16.264 16.004 16.046\n",
      " 15.581 15.258 15.337 15.87  15.972]\n"
     ]
    },
    {
     "data": {
      "image/png": "[encoded data removed]",
      "text/plain": [
       "<Figure size 432x288 with 1 Axes>"
      ]
     },
     "metadata": {
      "needs_background": "light"
     },
     "output_type": "display_data"
    },
    {
     "name": "stdout",
     "output_type": "stream",
     "text": [
      "program completed  19.0 minutes :  52.0 seconds\n"
     ]
    },
    {
     "data": {
      "text/plain": [
       "<Figure size 432x288 with 0 Axes>"
      ]
     },
     "metadata": {},
     "output_type": "display_data"
    }
   ],
   "source": [
    "stock_pred(x_test_t, y_test_t)\n",
    "print_time(\"program completed \", stime)"
   ]
  },
  {
   "cell_type": "markdown",
   "metadata": {},
   "source": [
    "## 最近N天的走势放大图\n",
    "将测试集的最近N天的走势放大了来看看，似乎预测曲线更加平顺。"
   ]
  },
  {
   "cell_type": "code",
   "execution_count": 14,
   "metadata": {},
   "outputs": [],
   "source": [
    "# for days in (200,100,60,20,10):\n",
    "#     y_pred = y_pred_org[-days:]\n",
    "#     y_test_t = y_test_t_org[-days:]\n",
    "#     plot_pred(y_pred,y_test_t,'Prediction vs Real Stock Price(latest ' + str(days) + ' days)')"
   ]
  },
  {
   "cell_type": "markdown",
   "metadata": {},
   "source": [
    "## 最近N天的走势预测\n",
    "在执行这个block之前，最好将测试数据重新生成一遍，以免相互影响造成测试数据的改变。"
   ]
  },
  {
   "cell_type": "markdown",
   "metadata": {},
   "source": [
    "在单步预测之前，需要根据checkpoint重构模型，输入的shape修正为(1,1)，否则输入必须和训练时的batch_size相同，很受限制。"
   ]
  },
  {
   "cell_type": "code",
   "execution_count": 15,
   "metadata": {},
   "outputs": [
    {
     "name": "stdout",
     "output_type": "stream",
     "text": [
      "dim_0 2752\n"
     ]
    },
    {
     "data": {
      "application/vnd.jupyter.widget-view+json": {
       "model_id": "909478e00ac648e6b43c354477f805ee",
       "version_major": 2,
       "version_minor": 0
      },
      "text/plain": [
       "HBox(children=(IntProgress(value=0, max=2752), HTML(value='')))"
      ]
     },
     "metadata": {},
     "output_type": "display_data"
    },
    {
     "name": "stdout",
     "output_type": "stream",
     "text": [
      "\n",
      "length of time-series i/o (2752, 60, 5) (2752,)\n",
      "batch size: 20\n"
     ]
    },
    {
     "data": {
      "image/png": "[encoded data removed]",
      "text/plain": [
       "<Figure size 432x288 with 1 Axes>"
      ]
     },
     "metadata": {
      "needs_background": "light"
     },
     "output_type": "display_data"
    },
    {
     "name": "stdout",
     "output_type": "stream",
     "text": [
      "batch size: 20\n"
     ]
    },
    {
     "data": {
      "text/plain": [
       "<Figure size 432x288 with 0 Axes>"
      ]
     },
     "metadata": {},
     "output_type": "display_data"
    },
    {
     "data": {
      "image/png": "[encoded data removed]",
      "text/plain": [
       "<Figure size 432x288 with 1 Axes>"
      ]
     },
     "metadata": {
      "needs_background": "light"
     },
     "output_type": "display_data"
    },
    {
     "name": "stdout",
     "output_type": "stream",
     "text": [
      "batch size: 20\n"
     ]
    },
    {
     "data": {
      "text/plain": [
       "<Figure size 432x288 with 0 Axes>"
      ]
     },
     "metadata": {},
     "output_type": "display_data"
    },
    {
     "data": {
      "image/png": "[encoded data removed]",
      "text/plain": [
       "<Figure size 432x288 with 1 Axes>"
      ]
     },
     "metadata": {
      "needs_background": "light"
     },
     "output_type": "display_data"
    },
    {
     "name": "stdout",
     "output_type": "stream",
     "text": [
      "batch size: 20\n"
     ]
    },
    {
     "data": {
      "text/plain": [
       "<Figure size 432x288 with 0 Axes>"
      ]
     },
     "metadata": {},
     "output_type": "display_data"
    },
    {
     "data": {
      "image/png": "[encoded data removed]",
      "text/plain": [
       "<Figure size 432x288 with 1 Axes>"
      ]
     },
     "metadata": {
      "needs_background": "light"
     },
     "output_type": "display_data"
    },
    {
     "data": {
      "text/plain": [
       "<Figure size 432x288 with 0 Axes>"
      ]
     },
     "metadata": {},
     "output_type": "display_data"
    }
   ],
   "source": [
    "x_temp, y_temp = build_timeseries(x_test, 3)\n",
    "_, x_test_t = np.split(x_temp,2)\n",
    "_, y_test_t = np.split(y_temp,2)\n",
    "\n",
    "for days in (200,100,60,20):\n",
    "    x = x_test_t[-days:]\n",
    "    y = y_test_t[-days:]\n",
    "    stock_pred(x, y, debug=False, title='Prediction vs Real Stock Price(latest ' + str(days) + ' days)')"
   ]
  },
  {
   "cell_type": "markdown",
   "metadata": {},
   "source": [
    "# 后记\n",
    "\n",
    "* 如何逐步的观察预测的结果？比如给出前60天的数据作为x_test，然后只预测出下一天的收盘价？\n",
    "* 如果预测是开盘价呢？\n",
    "* 改造为猜第二天的涨跌\n",
    "* 改造成many-to-many的案例，即根据前N天的数据预测后M天的收盘价\n",
    "* 如何显示真实的日期？"
   ]
  }
 ],
 "metadata": {
  "kernelspec": {
   "display_name": "Python 3",
   "language": "python",
   "name": "python3"
  },
  "language_info": {
   "codemirror_mode": {
    "name": "ipython",
    "version": 3
   },
   "file_extension": ".py",
   "mimetype": "text/x-python",
   "name": "python",
   "nbconvert_exporter": "python",
   "pygments_lexer": "ipython3",
   "version": "3.7.3"
  }
 },
 "nbformat": 4,
 "nbformat_minor": 2
}
