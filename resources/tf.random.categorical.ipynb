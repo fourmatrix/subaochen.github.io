{
 "cells": [
  {
   "cell_type": "markdown",
   "metadata": {},
   "source": [
    "# tf.random.categorical的用法\n",
    "\n",
    "tf.random.categorical实现了多项分布，可以用来方便的获取多项分布的概率（通常是模型的输出结果）。\n",
    "\n",
    "此方法替代了过时的multinomial方法。"
   ]
  },
  {
   "cell_type": "code",
   "execution_count": null,
   "metadata": {},
   "outputs": [],
   "source": [
    "import tensorflow as tf\n",
    "tf.enable_eager_execution()\n",
    "import numpy as np"
   ]
  },
  {
   "cell_type": "markdown",
   "metadata": {},
   "source": [
    "tf.log 等价与 tf.math.log"
   ]
  },
  {
   "cell_type": "code",
   "execution_count": null,
   "metadata": {},
   "outputs": [],
   "source": [
    "distribution = tf.log([[10., 10.],[5.,5.]])\n",
    "distribution"
   ]
  },
  {
   "cell_type": "code",
   "execution_count": null,
   "metadata": {},
   "outputs": [],
   "source": [
    "tf.random.categorical(distribution,5)"
   ]
  },
  {
   "cell_type": "markdown",
   "metadata": {},
   "source": [
    "顺便，看一个二项分布的例子：n为实验次数，p为正例概率，size为采样个数。当size=1时表示生成（采用）一个随机数，其值在0-10之间，并且在7附件的概率高。多次执行，会发现每次执行的结果不一样。"
   ]
  },
  {
   "cell_type": "code",
   "execution_count": null,
   "metadata": {},
   "outputs": [],
   "source": [
    "a = np.random.binomial(n=10, p=0.7, size=100)\n",
    "a"
   ]
  },
  {
   "cell_type": "code",
   "execution_count": null,
   "metadata": {},
   "outputs": [],
   "source": [
    "import pandas as pd\n",
    "c = pd.value_counts(a) # 统计a中个元素出现的次数，也可以使用collections.Counter，但是不如pandas给出的结果直观\n",
    "c\n",
    "#c.index.tolist()\n",
    "#c.tolist()\n",
    "#from collections import Counter\n",
    "#Counter(a)"
   ]
  },
  {
   "cell_type": "code",
   "execution_count": null,
   "metadata": {},
   "outputs": [],
   "source": [
    "import matplotlib.pyplot as plt\n",
    "labels = c.index.tolist()\n",
    "data = c.tolist()\n",
    "plt.hist(data, facecolor=\"blue\", edgecolor=\"black\", alpha=0.7)\n",
    "plt.title('二项分布抽样')\n",
    "plt.xlabel('样本')\n",
    "plt.ylabel('次数')\n",
    "plt.legend()\n",
    "\n",
    "plt.show()"
   ]
  }
 ],
 "metadata": {
  "kernelspec": {
   "display_name": "Python 3",
   "language": "python",
   "name": "python3"
  },
  "language_info": {
   "codemirror_mode": {
    "name": "ipython",
    "version": 3
   },
   "file_extension": ".py",
   "mimetype": "text/x-python",
   "name": "python",
   "nbconvert_exporter": "python",
   "pygments_lexer": "ipython3",
   "version": "3.7.3"
  }
 },
 "nbformat": 4,
 "nbformat_minor": 2
}
